{
  "nbformat": 4,
  "nbformat_minor": 5,
  "metadata": {
    "kernelspec": {
      "display_name": "Python 3",
      "language": "python",
      "name": "python3"
    },
    "language_info": {
      "codemirror_mode": {
        "name": "ipython",
        "version": 3
      },
      "file_extension": ".py",
      "mimetype": "text/x-python",
      "name": "python",
      "nbconvert_exporter": "python",
      "pygments_lexer": "ipython3",
      "version": "3.8.8"
    },
    "colab": {
      "name": "Questão-1-Desafio.ipynb",
      "provenance": [],
      "include_colab_link": true
    }
  },
  "cells": [
    {
      "cell_type": "markdown",
      "metadata": {
        "id": "view-in-github",
        "colab_type": "text"
      },
      "source": [
        "<a href=\"https://colab.research.google.com/github/allysonbueno/ef_test/blob/main/Quest%C3%A3o_1_Desafio.ipynb\" target=\"_parent\"><img src=\"https://colab.research.google.com/assets/colab-badge.svg\" alt=\"Open In Colab\"/></a>"
      ]
    },
    {
      "cell_type": "code",
      "metadata": {
        "id": "6f358127-cb6c-4406-a118-2669b46ed2e0"
      },
      "source": [
        "import pandas as pd\n",
        "import numpy as np"
      ],
      "id": "6f358127-cb6c-4406-a118-2669b46ed2e0",
      "execution_count": null,
      "outputs": []
    },
    {
      "cell_type": "code",
      "metadata": {
        "id": "cfaada40-3b2d-4a4f-b79b-de8b7b0a1601"
      },
      "source": [
        "# pip install pyodbc\n",
        "import pyodbc"
      ],
      "id": "cfaada40-3b2d-4a4f-b79b-de8b7b0a1601",
      "execution_count": null,
      "outputs": []
    },
    {
      "cell_type": "code",
      "metadata": {
        "id": "78259419-ff50-4421-9189-c5e6cab05a3d"
      },
      "source": [
        "server = 'localhost' \n",
        "database = 'DesafioEF' \n",
        "username = 'datalake' \n",
        "password = 'xxxxxxxxxxx'  "
      ],
      "id": "78259419-ff50-4421-9189-c5e6cab05a3d",
      "execution_count": null,
      "outputs": []
    },
    {
      "cell_type": "code",
      "metadata": {
        "id": "e6d6e6cf-2bdc-4607-85ef-c7c9d6b9794f"
      },
      "source": [
        "conn = pyodbc.connect('DRIVER={SQL Server};SERVER='+server+';DATABASE='+database+';UID='+username+';PWD='+ password)\n",
        "cursor = conn.cursor()"
      ],
      "id": "e6d6e6cf-2bdc-4607-85ef-c7c9d6b9794f",
      "execution_count": null,
      "outputs": []
    },
    {
      "cell_type": "code",
      "metadata": {
        "id": "cc7f09cd-4cf1-43c3-8b3b-a9ccdd6b80e2"
      },
      "source": [
        "query = \"SELECT * FROM Producao_2019;\"\n",
        "df = pd.read_sql(query, conn)"
      ],
      "id": "cc7f09cd-4cf1-43c3-8b3b-a9ccdd6b80e2",
      "execution_count": null,
      "outputs": []
    },
    {
      "cell_type": "code",
      "metadata": {
        "tags": [],
        "id": "ca3413c2-12ae-4a43-b0ad-08794011f1ee"
      },
      "source": [
        "totalHectare = df['HA_2019'].sum()\n",
        "totalHectareMaio = df['HA_Maio'].sum()\n",
        "totalHectareJunho = df['HA_Junho'].sum()\n",
        "totalToneladas = df['ton_2019'].sum()\n",
        "totalToneladasMaio = df['ton_Maio'].sum()\n",
        "totalToneladasJunho = df['ton_Junho'].sum()"
      ],
      "id": "ca3413c2-12ae-4a43-b0ad-08794011f1ee",
      "execution_count": null,
      "outputs": []
    },
    {
      "cell_type": "code",
      "metadata": {
        "id": "b323befe-94e7-4380-9047-cc57fd1a1cbd"
      },
      "source": [
        "filtroCentroOeste = df.UF.str.contains('DISTRITO FEDERAL|GOIAS|MATO GROSSO|MATO GROSSO DO SUL')\n",
        "dfCentroOeste = df.loc[filtroCentroOeste]"
      ],
      "id": "b323befe-94e7-4380-9047-cc57fd1a1cbd",
      "execution_count": null,
      "outputs": []
    },
    {
      "cell_type": "code",
      "metadata": {
        "id": "c29d34f0-84a1-4b88-b332-c727497ccc95"
      },
      "source": [
        "# 1) Qual a porcentagem de participação da região Centro-Oeste na produção nacional no primeiro semestre de 2019?\n",
        "totalHA_CO = dfCentroOeste['HA_2019'].sum()\n",
        "totalHAMaio_CO = dfCentroOeste['HA_Maio'].sum()\n",
        "totalHAJunho_CO = dfCentroOeste['HA_Junho'].sum()\n",
        "totalTon_CO = dfCentroOeste['ton_2019'].sum()\n",
        "totalTonMaio_CO = dfCentroOeste['ton_Maio'].sum()\n",
        "totalTonJunho_CO = dfCentroOeste['ton_Junho'].sum()"
      ],
      "id": "c29d34f0-84a1-4b88-b332-c727497ccc95",
      "execution_count": null,
      "outputs": []
    },
    {
      "cell_type": "code",
      "metadata": {
        "id": "9548f213-3b4d-4b11-91ca-978ffbafa0e6"
      },
      "source": [
        "perc_HA_CO = (totalHA_CO / totalHectare) * 100\n",
        "perc_HA_Maio_CO = (totalHAMaio_CO / totalHectareMaio) * 100\n",
        "perc_HA_Junho_CO = (totalHAJunho_CO / totalHectareJunho) * 100\n",
        "perc_ton_CO = (totalTon_CO / totalToneladas) * 100\n",
        "perc_ton_Maio_CO = (totalTonMaio_CO / totalToneladasMaio) * 100\n",
        "perc_ton_Junho_CO = (totalTonJunho_CO / totalToneladasJunho) * 100"
      ],
      "id": "9548f213-3b4d-4b11-91ca-978ffbafa0e6",
      "execution_count": null,
      "outputs": []
    },
    {
      "cell_type": "code",
      "metadata": {
        "id": "9649e5df-00d2-471f-b8e5-ae48a9bdf4cd",
        "outputId": "e433666a-f223-4494-d75d-3879b9dec6fd"
      },
      "source": [
        "df_percMaioEJunhoCO = pd.DataFrame({ \n",
        "    'Perc_Hectares_2019_Centro_Oeste':[perc_HA_CO],\n",
        "    'Perc_Hectares_Maio_Centro_Oeste':[perc_HA_Maio_CO],\n",
        "    'Perc_Hectares_Junho_Centro_Oeste':[perc_HA_Junho_CO],  \n",
        "    'Perc_Toneladas_2019_Centro_Oeste':[perc_ton_CO],\n",
        "    'Perc_Toneladas_Maio_Centro_Oeste':[perc_ton_Maio_CO],\n",
        "    'Perc_Toneladas_Junho_Centro_Oeste':[perc_ton_Junho_CO],\n",
        "})\n",
        "df_percMaioEJunhoCO"
      ],
      "id": "9649e5df-00d2-471f-b8e5-ae48a9bdf4cd",
      "execution_count": null,
      "outputs": [
        {
          "data": {
            "text/html": [
              "<div>\n",
              "<style scoped>\n",
              "    .dataframe tbody tr th:only-of-type {\n",
              "        vertical-align: middle;\n",
              "    }\n",
              "\n",
              "    .dataframe tbody tr th {\n",
              "        vertical-align: top;\n",
              "    }\n",
              "\n",
              "    .dataframe thead th {\n",
              "        text-align: right;\n",
              "    }\n",
              "</style>\n",
              "<table border=\"1\" class=\"dataframe\">\n",
              "  <thead>\n",
              "    <tr style=\"text-align: right;\">\n",
              "      <th></th>\n",
              "      <th>Perc_Hectares_2019_Centro_Oeste</th>\n",
              "      <th>Perc_Hectares_Maio_Centro_Oeste</th>\n",
              "      <th>Perc_Hectares_Junho_Centro_Oeste</th>\n",
              "      <th>Perc_Toneladas_2019_Centro_Oeste</th>\n",
              "      <th>Perc_Toneladas_Maio_Centro_Oeste</th>\n",
              "      <th>Perc_Toneladas_Junho_Centro_Oeste</th>\n",
              "    </tr>\n",
              "  </thead>\n",
              "  <tbody>\n",
              "    <tr>\n",
              "      <th>0</th>\n",
              "      <td>42.610034</td>\n",
              "      <td>42.690571</td>\n",
              "      <td>42.61801</td>\n",
              "      <td>46.183981</td>\n",
              "      <td>47.18777</td>\n",
              "      <td>46.795827</td>\n",
              "    </tr>\n",
              "  </tbody>\n",
              "</table>\n",
              "</div>"
            ],
            "text/plain": [
              "   Perc_Hectares_2019_Centro_Oeste  Perc_Hectares_Maio_Centro_Oeste  \\\n",
              "0                        42.610034                        42.690571   \n",
              "\n",
              "   Perc_Hectares_Junho_Centro_Oeste  Perc_Toneladas_2019_Centro_Oeste  \\\n",
              "0                          42.61801                         46.183981   \n",
              "\n",
              "   Perc_Toneladas_Maio_Centro_Oeste  Perc_Toneladas_Junho_Centro_Oeste  \n",
              "0                          47.18777                          46.795827  "
            ]
          },
          "execution_count": 251,
          "metadata": {},
          "output_type": "execute_result"
        }
      ]
    },
    {
      "cell_type": "code",
      "metadata": {
        "id": "468aa36a-1b37-4651-95bd-e805a12e89ac"
      },
      "source": [
        "df_percMaioEJunhoCO['Participacao_Primeiro_Semestre_Centro_Oeste'] = df_percMaioEJunhoCO[['Perc_Hectares_Maio_Centro_Oeste','Perc_Hectares_Junho_Centro_Oeste']].mean(axis=1)"
      ],
      "id": "468aa36a-1b37-4651-95bd-e805a12e89ac",
      "execution_count": null,
      "outputs": []
    },
    {
      "cell_type": "code",
      "metadata": {
        "id": "30715675-69e2-4575-9ae6-8be35b46eb8a",
        "outputId": "395565c7-ff08-4ac5-90e5-2c38c2b831fc"
      },
      "source": [
        "###### ###### ######  RESPOSTA: ###### ###### ###### \n",
        "df_percMaioEJunhoCO[['Participacao_Primeiro_Semestre_Centro_Oeste']]"
      ],
      "id": "30715675-69e2-4575-9ae6-8be35b46eb8a",
      "execution_count": null,
      "outputs": [
        {
          "data": {
            "text/html": [
              "<div>\n",
              "<style scoped>\n",
              "    .dataframe tbody tr th:only-of-type {\n",
              "        vertical-align: middle;\n",
              "    }\n",
              "\n",
              "    .dataframe tbody tr th {\n",
              "        vertical-align: top;\n",
              "    }\n",
              "\n",
              "    .dataframe thead th {\n",
              "        text-align: right;\n",
              "    }\n",
              "</style>\n",
              "<table border=\"1\" class=\"dataframe\">\n",
              "  <thead>\n",
              "    <tr style=\"text-align: right;\">\n",
              "      <th></th>\n",
              "      <th>Participacao_Primeiro_Semestre_Centro_Oeste</th>\n",
              "    </tr>\n",
              "  </thead>\n",
              "  <tbody>\n",
              "    <tr>\n",
              "      <th>0</th>\n",
              "      <td>42.654291</td>\n",
              "    </tr>\n",
              "  </tbody>\n",
              "</table>\n",
              "</div>"
            ],
            "text/plain": [
              "   Participacao_Primeiro_Semestre_Centro_Oeste\n",
              "0                                    42.654291"
            ]
          },
          "execution_count": 254,
          "metadata": {},
          "output_type": "execute_result"
        }
      ]
    }
  ]
}