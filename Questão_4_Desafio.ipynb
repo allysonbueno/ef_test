{
  "nbformat": 4,
  "nbformat_minor": 5,
  "metadata": {
    "kernelspec": {
      "display_name": "Python 3",
      "language": "python",
      "name": "python3"
    },
    "language_info": {
      "codemirror_mode": {
        "name": "ipython",
        "version": 3
      },
      "file_extension": ".py",
      "mimetype": "text/x-python",
      "name": "python",
      "nbconvert_exporter": "python",
      "pygments_lexer": "ipython3",
      "version": "3.8.8"
    },
    "colab": {
      "name": "Questão-4-Desafio.ipynb",
      "provenance": [],
      "collapsed_sections": [],
      "include_colab_link": true
    }
  },
  "cells": [
    {
      "cell_type": "markdown",
      "metadata": {
        "id": "view-in-github",
        "colab_type": "text"
      },
      "source": [
        "<a href=\"https://colab.research.google.com/github/allysonbueno/ef_test/blob/main/Quest%C3%A3o_4_Desafio.ipynb\" target=\"_parent\"><img src=\"https://colab.research.google.com/assets/colab-badge.svg\" alt=\"Open In Colab\"/></a>"
      ]
    },
    {
      "cell_type": "code",
      "metadata": {
        "id": "6f358127-cb6c-4406-a118-2669b46ed2e0"
      },
      "source": [
        "import pandas as pd\n",
        "import numpy as np\n",
        "import matplotlib.pyplot as plt\n",
        "import seaborn as sns"
      ],
      "id": "6f358127-cb6c-4406-a118-2669b46ed2e0",
      "execution_count": null,
      "outputs": []
    },
    {
      "cell_type": "code",
      "metadata": {
        "id": "cfaada40-3b2d-4a4f-b79b-de8b7b0a1601"
      },
      "source": [
        "# pip install pyodbc\n",
        "import pyodbc"
      ],
      "id": "cfaada40-3b2d-4a4f-b79b-de8b7b0a1601",
      "execution_count": null,
      "outputs": []
    },
    {
      "cell_type": "code",
      "metadata": {
        "id": "78259419-ff50-4421-9189-c5e6cab05a3d"
      },
      "source": [
        "server = 'localhost' \n",
        "database = 'DesafioEF' \n",
        "username = 'datalake' \n",
        "password = 'xxxxxxxxxx'  "
      ],
      "id": "78259419-ff50-4421-9189-c5e6cab05a3d",
      "execution_count": null,
      "outputs": []
    },
    {
      "cell_type": "code",
      "metadata": {
        "id": "e6d6e6cf-2bdc-4607-85ef-c7c9d6b9794f"
      },
      "source": [
        "conn = pyodbc.connect('DRIVER={SQL Server};SERVER='+server+';DATABASE='+database+';UID='+username+';PWD='+ password)\n",
        "cursor = conn.cursor()"
      ],
      "id": "e6d6e6cf-2bdc-4607-85ef-c7c9d6b9794f",
      "execution_count": null,
      "outputs": []
    },
    {
      "cell_type": "code",
      "metadata": {
        "id": "cc7f09cd-4cf1-43c3-8b3b-a9ccdd6b80e2"
      },
      "source": [
        "query1 = \"SELECT * FROM Producao_2019;\"\n",
        "df_Prod_2019 = pd.read_sql(query1, conn)\n",
        "\n",
        "query2 = \"SELECT * FROM PIB_CEPEA_PIB WHERE ANO = 2019;\"\n",
        "df_PIB_2019 = pd.read_sql(query2, conn)\n",
        "df_PIB_2019.drop(['Agronegocio_Insumos', 'Agronegocio_Agropecuaria','Agronegocio_Industria','Agronegocio_Serviços','Total_Agronegócio'], axis=1, inplace=True)"
      ],
      "id": "cc7f09cd-4cf1-43c3-8b3b-a9ccdd6b80e2",
      "execution_count": null,
      "outputs": []
    },
    {
      "cell_type": "code",
      "metadata": {
        "id": "dcf4d0e2-b7b7-4f4d-9eda-b579ddec309f",
        "outputId": "9abec9c5-deef-4fd6-da49-ff1a2fa5db09"
      },
      "source": [
        "df_PIB_2019[['ANO','Agricola_Insumos','Agricola_Agropecuária','Pecuario_Insumos','Pecuario_Agropecuária']]"
      ],
      "id": "dcf4d0e2-b7b7-4f4d-9eda-b579ddec309f",
      "execution_count": null,
      "outputs": [
        {
          "data": {
            "text/html": [
              "<div>\n",
              "<style scoped>\n",
              "    .dataframe tbody tr th:only-of-type {\n",
              "        vertical-align: middle;\n",
              "    }\n",
              "\n",
              "    .dataframe tbody tr th {\n",
              "        vertical-align: top;\n",
              "    }\n",
              "\n",
              "    .dataframe thead th {\n",
              "        text-align: right;\n",
              "    }\n",
              "</style>\n",
              "<table border=\"1\" class=\"dataframe\">\n",
              "  <thead>\n",
              "    <tr style=\"text-align: right;\">\n",
              "      <th></th>\n",
              "      <th>ANO</th>\n",
              "      <th>Agricola_Insumos</th>\n",
              "      <th>Agricola_Agropecuária</th>\n",
              "      <th>Pecuario_Insumos</th>\n",
              "      <th>Pecuario_Agropecuária</th>\n",
              "    </tr>\n",
              "  </thead>\n",
              "  <tbody>\n",
              "    <tr>\n",
              "      <th>0</th>\n",
              "      <td>2019</td>\n",
              "      <td>53871.0</td>\n",
              "      <td>212553.27</td>\n",
              "      <td>25259.81</td>\n",
              "      <td>138481.93</td>\n",
              "    </tr>\n",
              "  </tbody>\n",
              "</table>\n",
              "</div>"
            ],
            "text/plain": [
              "    ANO  Agricola_Insumos  Agricola_Agropecuária  Pecuario_Insumos  \\\n",
              "0  2019           53871.0              212553.27          25259.81   \n",
              "\n",
              "   Pecuario_Agropecuária  \n",
              "0              138481.93  "
            ]
          },
          "execution_count": 563,
          "metadata": {},
          "output_type": "execute_result"
        }
      ]
    },
    {
      "cell_type": "code",
      "metadata": {
        "id": "e425bf2f-1e25-4723-9731-2375d3af527f"
      },
      "source": [
        "prod_total_ton_2019 = pd.DataFrame({'Total_Producao_Ton_2019':[df_Prod_2019[\"ton_2019\"].sum()]})"
      ],
      "id": "e425bf2f-1e25-4723-9731-2375d3af527f",
      "execution_count": null,
      "outputs": []
    },
    {
      "cell_type": "code",
      "metadata": {
        "id": "621ea1a9-d907-4bfb-b568-846765a5a290"
      },
      "source": [
        "total_gastos_insumos = ((df_PIB_2019['Agricola_Insumos'] + df_PIB_2019['Pecuario_Insumos']) / prod_total_ton_2019['Total_Producao_Ton_2019']) * 100"
      ],
      "id": "621ea1a9-d907-4bfb-b568-846765a5a290",
      "execution_count": null,
      "outputs": []
    },
    {
      "cell_type": "code",
      "metadata": {
        "id": "95e01491-f488-4fd1-8c02-943aaef5f2d3"
      },
      "source": [
        "total_gastos_agropecuario = ((df_PIB_2019['Agricola_Agropecuária'] + df_PIB_2019['Pecuario_Agropecuária']) / prod_total_ton_2019['Total_Producao_Ton_2019']) * 100"
      ],
      "id": "95e01491-f488-4fd1-8c02-943aaef5f2d3",
      "execution_count": null,
      "outputs": []
    },
    {
      "cell_type": "code",
      "metadata": {
        "id": "fd1e7834-33d2-4f1c-837d-1e6facc81e28"
      },
      "source": [
        "df_total = pd.DataFrame({\n",
        "    \"Total_Produzido_Ton\": [prod_total_ton_2019['Total_Producao_Ton_2019'].loc[0]],\n",
        "    #\"Total_Pecuario\": [total_gastos_agropecuario.loc[0]],\n",
        "    \"Total_Agropecuario\": [total_gastos_agropecuario.loc[0]]\n",
        "})"
      ],
      "id": "fd1e7834-33d2-4f1c-837d-1e6facc81e28",
      "execution_count": null,
      "outputs": []
    },
    {
      "cell_type": "code",
      "metadata": {
        "id": "2988ee06-bde3-4d56-90d3-d6da339d5ce0"
      },
      "source": [
        "df_corr = df_PIB_2019[['Agricola_Insumos','Agricola_Agropecuária','Pecuario_Insumos','Pecuario_Agropecuária']]"
      ],
      "id": "2988ee06-bde3-4d56-90d3-d6da339d5ce0",
      "execution_count": null,
      "outputs": []
    },
    {
      "cell_type": "code",
      "metadata": {
        "id": "2f993da8-e850-4790-b55b-7af9dd585658",
        "outputId": "36baf780-4cfb-4b64-a4af-bd7f11108e30"
      },
      "source": [
        "df_Prod_2019.corr()"
      ],
      "id": "2f993da8-e850-4790-b55b-7af9dd585658",
      "execution_count": null,
      "outputs": [
        {
          "data": {
            "text/html": [
              "<div>\n",
              "<style scoped>\n",
              "    .dataframe tbody tr th:only-of-type {\n",
              "        vertical-align: middle;\n",
              "    }\n",
              "\n",
              "    .dataframe tbody tr th {\n",
              "        vertical-align: top;\n",
              "    }\n",
              "\n",
              "    .dataframe thead th {\n",
              "        text-align: right;\n",
              "    }\n",
              "</style>\n",
              "<table border=\"1\" class=\"dataframe\">\n",
              "  <thead>\n",
              "    <tr style=\"text-align: right;\">\n",
              "      <th></th>\n",
              "      <th>HA_2019</th>\n",
              "      <th>HA_Maio</th>\n",
              "      <th>HA_Junho</th>\n",
              "      <th>ton_2019</th>\n",
              "      <th>ton_Maio</th>\n",
              "      <th>ton_Junho</th>\n",
              "    </tr>\n",
              "  </thead>\n",
              "  <tbody>\n",
              "    <tr>\n",
              "      <th>HA_2019</th>\n",
              "      <td>1.000000</td>\n",
              "      <td>0.999860</td>\n",
              "      <td>0.999874</td>\n",
              "      <td>0.996060</td>\n",
              "      <td>0.989983</td>\n",
              "      <td>0.990034</td>\n",
              "    </tr>\n",
              "    <tr>\n",
              "      <th>HA_Maio</th>\n",
              "      <td>0.999860</td>\n",
              "      <td>1.000000</td>\n",
              "      <td>0.999994</td>\n",
              "      <td>0.996756</td>\n",
              "      <td>0.990644</td>\n",
              "      <td>0.990632</td>\n",
              "    </tr>\n",
              "    <tr>\n",
              "      <th>HA_Junho</th>\n",
              "      <td>0.999874</td>\n",
              "      <td>0.999994</td>\n",
              "      <td>1.000000</td>\n",
              "      <td>0.996722</td>\n",
              "      <td>0.990667</td>\n",
              "      <td>0.990687</td>\n",
              "    </tr>\n",
              "    <tr>\n",
              "      <th>ton_2019</th>\n",
              "      <td>0.996060</td>\n",
              "      <td>0.996756</td>\n",
              "      <td>0.996722</td>\n",
              "      <td>1.000000</td>\n",
              "      <td>0.992835</td>\n",
              "      <td>0.992638</td>\n",
              "    </tr>\n",
              "    <tr>\n",
              "      <th>ton_Maio</th>\n",
              "      <td>0.989983</td>\n",
              "      <td>0.990644</td>\n",
              "      <td>0.990667</td>\n",
              "      <td>0.992835</td>\n",
              "      <td>1.000000</td>\n",
              "      <td>0.999899</td>\n",
              "    </tr>\n",
              "    <tr>\n",
              "      <th>ton_Junho</th>\n",
              "      <td>0.990034</td>\n",
              "      <td>0.990632</td>\n",
              "      <td>0.990687</td>\n",
              "      <td>0.992638</td>\n",
              "      <td>0.999899</td>\n",
              "      <td>1.000000</td>\n",
              "    </tr>\n",
              "  </tbody>\n",
              "</table>\n",
              "</div>"
            ],
            "text/plain": [
              "            HA_2019   HA_Maio  HA_Junho  ton_2019  ton_Maio  ton_Junho\n",
              "HA_2019    1.000000  0.999860  0.999874  0.996060  0.989983   0.990034\n",
              "HA_Maio    0.999860  1.000000  0.999994  0.996756  0.990644   0.990632\n",
              "HA_Junho   0.999874  0.999994  1.000000  0.996722  0.990667   0.990687\n",
              "ton_2019   0.996060  0.996756  0.996722  1.000000  0.992835   0.992638\n",
              "ton_Maio   0.989983  0.990644  0.990667  0.992835  1.000000   0.999899\n",
              "ton_Junho  0.990034  0.990632  0.990687  0.992638  0.999899   1.000000"
            ]
          },
          "execution_count": 614,
          "metadata": {},
          "output_type": "execute_result"
        }
      ]
    },
    {
      "cell_type": "code",
      "metadata": {
        "id": "a9c179cc-7ee0-48f2-ad61-3f9bb1831088",
        "outputId": "86982113-a001-4538-a1d4-2949fec89a92"
      },
      "source": [
        "df_PIB_2019"
      ],
      "id": "a9c179cc-7ee0-48f2-ad61-3f9bb1831088",
      "execution_count": null,
      "outputs": [
        {
          "data": {
            "text/html": [
              "<div>\n",
              "<style scoped>\n",
              "    .dataframe tbody tr th:only-of-type {\n",
              "        vertical-align: middle;\n",
              "    }\n",
              "\n",
              "    .dataframe tbody tr th {\n",
              "        vertical-align: top;\n",
              "    }\n",
              "\n",
              "    .dataframe thead th {\n",
              "        text-align: right;\n",
              "    }\n",
              "</style>\n",
              "<table border=\"1\" class=\"dataframe\">\n",
              "  <thead>\n",
              "    <tr style=\"text-align: right;\">\n",
              "      <th></th>\n",
              "      <th>ANO</th>\n",
              "      <th>Agricola_Insumos</th>\n",
              "      <th>Agricola_Agropecuária</th>\n",
              "      <th>Agricola_Indústria</th>\n",
              "      <th>Agricola_Serviços</th>\n",
              "      <th>Total_Ramo_Agricola</th>\n",
              "      <th>Pecuario_Insumos</th>\n",
              "      <th>Pecuario_Agropecuária</th>\n",
              "      <th>Pecuario_Indústria</th>\n",
              "      <th>Pecuario_Serviços</th>\n",
              "      <th>Total_Ramo_Pecuario</th>\n",
              "    </tr>\n",
              "  </thead>\n",
              "  <tbody>\n",
              "    <tr>\n",
              "      <th>0</th>\n",
              "      <td>2019</td>\n",
              "      <td>53871.0</td>\n",
              "      <td>212553.27</td>\n",
              "      <td>361527.85</td>\n",
              "      <td>430287.33</td>\n",
              "      <td>1058239.45</td>\n",
              "      <td>25259.81</td>\n",
              "      <td>138481.93</td>\n",
              "      <td>105080.5</td>\n",
              "      <td>225933.69</td>\n",
              "      <td>494755.93</td>\n",
              "    </tr>\n",
              "  </tbody>\n",
              "</table>\n",
              "</div>"
            ],
            "text/plain": [
              "    ANO  Agricola_Insumos  Agricola_Agropecuária  Agricola_Indústria  \\\n",
              "0  2019           53871.0              212553.27           361527.85   \n",
              "\n",
              "   Agricola_Serviços  Total_Ramo_Agricola  Pecuario_Insumos  \\\n",
              "0          430287.33           1058239.45          25259.81   \n",
              "\n",
              "   Pecuario_Agropecuária  Pecuario_Indústria  Pecuario_Serviços  \\\n",
              "0              138481.93            105080.5          225933.69   \n",
              "\n",
              "   Total_Ramo_Pecuario  \n",
              "0            494755.93  "
            ]
          },
          "execution_count": 616,
          "metadata": {},
          "output_type": "execute_result"
        }
      ]
    },
    {
      "cell_type": "code",
      "metadata": {
        "id": "38531dda-1f62-481a-abf0-536450ffc5ff"
      },
      "source": [
        "df_agricola = pd.DataFrame({\n",
        "    \"Segmentos\": [\"Insumos\",\"Agropecuaria\",\"Industria\",\"Servicos\"],\n",
        "    \"Ramo Agricola\": [df_PIB_2019[\"Agricola_Insumos\"].loc[0], df_PIB_2019[\"Agricola_Agropecuária\"].loc[0], df_PIB_2019[\"Agricola_Indústria\"].loc[0], df_PIB_2019[\"Agricola_Serviços\"].loc[0]],\n",
        "    \"Ramo Pecuario\": [df_PIB_2019[\"Pecuario_Insumos\"].loc[0], df_PIB_2019[\"Pecuario_Agropecuária\"].loc[0], df_PIB_2019[\"Pecuario_Indústria\"].loc[0], df_PIB_2019[\"Pecuario_Serviços\"].loc[0]]\n",
        "}) "
      ],
      "id": "38531dda-1f62-481a-abf0-536450ffc5ff",
      "execution_count": null,
      "outputs": []
    },
    {
      "cell_type": "code",
      "metadata": {
        "id": "88e55b42-cf10-4b97-8ab7-eed9accc976e"
      },
      "source": [
        "df_agricola_corr = df_agricola[['Ramo Agricola','Ramo Pecuario']]"
      ],
      "id": "88e55b42-cf10-4b97-8ab7-eed9accc976e",
      "execution_count": null,
      "outputs": []
    },
    {
      "cell_type": "markdown",
      "metadata": {
        "id": "bKvSxjRtKbiJ"
      },
      "source": [
        "# RESPOSTA:"
      ],
      "id": "bKvSxjRtKbiJ"
    },
    {
      "cell_type": "code",
      "metadata": {
        "id": "edfb5fc7-475c-4cf5-8cfe-2e7696be2eff",
        "outputId": "3e9e0339-b272-4314-f45e-f7236ac2c72f"
      },
      "source": [
        "df_Prod_2019.corr()"
      ],
      "id": "edfb5fc7-475c-4cf5-8cfe-2e7696be2eff",
      "execution_count": null,
      "outputs": [
        {
          "data": {
            "text/html": [
              "<div>\n",
              "<style scoped>\n",
              "    .dataframe tbody tr th:only-of-type {\n",
              "        vertical-align: middle;\n",
              "    }\n",
              "\n",
              "    .dataframe tbody tr th {\n",
              "        vertical-align: top;\n",
              "    }\n",
              "\n",
              "    .dataframe thead th {\n",
              "        text-align: right;\n",
              "    }\n",
              "</style>\n",
              "<table border=\"1\" class=\"dataframe\">\n",
              "  <thead>\n",
              "    <tr style=\"text-align: right;\">\n",
              "      <th></th>\n",
              "      <th>HA_2019</th>\n",
              "      <th>HA_Maio</th>\n",
              "      <th>HA_Junho</th>\n",
              "      <th>ton_2019</th>\n",
              "      <th>ton_Maio</th>\n",
              "      <th>ton_Junho</th>\n",
              "    </tr>\n",
              "  </thead>\n",
              "  <tbody>\n",
              "    <tr>\n",
              "      <th>HA_2019</th>\n",
              "      <td>1.000000</td>\n",
              "      <td>0.999860</td>\n",
              "      <td>0.999874</td>\n",
              "      <td>0.996060</td>\n",
              "      <td>0.989983</td>\n",
              "      <td>0.990034</td>\n",
              "    </tr>\n",
              "    <tr>\n",
              "      <th>HA_Maio</th>\n",
              "      <td>0.999860</td>\n",
              "      <td>1.000000</td>\n",
              "      <td>0.999994</td>\n",
              "      <td>0.996756</td>\n",
              "      <td>0.990644</td>\n",
              "      <td>0.990632</td>\n",
              "    </tr>\n",
              "    <tr>\n",
              "      <th>HA_Junho</th>\n",
              "      <td>0.999874</td>\n",
              "      <td>0.999994</td>\n",
              "      <td>1.000000</td>\n",
              "      <td>0.996722</td>\n",
              "      <td>0.990667</td>\n",
              "      <td>0.990687</td>\n",
              "    </tr>\n",
              "    <tr>\n",
              "      <th>ton_2019</th>\n",
              "      <td>0.996060</td>\n",
              "      <td>0.996756</td>\n",
              "      <td>0.996722</td>\n",
              "      <td>1.000000</td>\n",
              "      <td>0.992835</td>\n",
              "      <td>0.992638</td>\n",
              "    </tr>\n",
              "    <tr>\n",
              "      <th>ton_Maio</th>\n",
              "      <td>0.989983</td>\n",
              "      <td>0.990644</td>\n",
              "      <td>0.990667</td>\n",
              "      <td>0.992835</td>\n",
              "      <td>1.000000</td>\n",
              "      <td>0.999899</td>\n",
              "    </tr>\n",
              "    <tr>\n",
              "      <th>ton_Junho</th>\n",
              "      <td>0.990034</td>\n",
              "      <td>0.990632</td>\n",
              "      <td>0.990687</td>\n",
              "      <td>0.992638</td>\n",
              "      <td>0.999899</td>\n",
              "      <td>1.000000</td>\n",
              "    </tr>\n",
              "  </tbody>\n",
              "</table>\n",
              "</div>"
            ],
            "text/plain": [
              "            HA_2019   HA_Maio  HA_Junho  ton_2019  ton_Maio  ton_Junho\n",
              "HA_2019    1.000000  0.999860  0.999874  0.996060  0.989983   0.990034\n",
              "HA_Maio    0.999860  1.000000  0.999994  0.996756  0.990644   0.990632\n",
              "HA_Junho   0.999874  0.999994  1.000000  0.996722  0.990667   0.990687\n",
              "ton_2019   0.996060  0.996756  0.996722  1.000000  0.992835   0.992638\n",
              "ton_Maio   0.989983  0.990644  0.990667  0.992835  1.000000   0.999899\n",
              "ton_Junho  0.990034  0.990632  0.990687  0.992638  0.999899   1.000000"
            ]
          },
          "execution_count": 638,
          "metadata": {},
          "output_type": "execute_result"
        }
      ]
    },
    {
      "cell_type": "code",
      "metadata": {
        "id": "77f20982-6b35-4915-8a0d-6341d558d41d",
        "outputId": "12c2c729-5c8f-458d-cc6f-3c8f20007cbb"
      },
      "source": [
        "df_Prod_2019.corr().style.background_gradient(cmap='coolwarm')"
      ],
      "id": "77f20982-6b35-4915-8a0d-6341d558d41d",
      "execution_count": null,
      "outputs": [
        {
          "data": {
            "text/html": [
              "<style  type=\"text/css\" >\n",
              "#T_05cdd_row0_col0,#T_05cdd_row1_col1,#T_05cdd_row1_col2,#T_05cdd_row2_col1,#T_05cdd_row2_col2,#T_05cdd_row3_col3,#T_05cdd_row4_col4,#T_05cdd_row5_col5{\n",
              "            background-color:  #b40426;\n",
              "            color:  #f1f1f1;\n",
              "        }#T_05cdd_row0_col1,#T_05cdd_row0_col2,#T_05cdd_row1_col0,#T_05cdd_row2_col0{\n",
              "            background-color:  #b8122a;\n",
              "            color:  #f1f1f1;\n",
              "        }#T_05cdd_row0_col3{\n",
              "            background-color:  #d3dbe7;\n",
              "            color:  #000000;\n",
              "        }#T_05cdd_row0_col4,#T_05cdd_row0_col5,#T_05cdd_row4_col0,#T_05cdd_row4_col1,#T_05cdd_row4_col2,#T_05cdd_row5_col1,#T_05cdd_row5_col2,#T_05cdd_row5_col3{\n",
              "            background-color:  #3b4cc0;\n",
              "            color:  #f1f1f1;\n",
              "        }#T_05cdd_row1_col3{\n",
              "            background-color:  #ebd3c6;\n",
              "            color:  #000000;\n",
              "        }#T_05cdd_row1_col4,#T_05cdd_row2_col5{\n",
              "            background-color:  #4e68d8;\n",
              "            color:  #000000;\n",
              "        }#T_05cdd_row1_col5{\n",
              "            background-color:  #4c66d6;\n",
              "            color:  #000000;\n",
              "        }#T_05cdd_row2_col3{\n",
              "            background-color:  #ead4c8;\n",
              "            color:  #000000;\n",
              "        }#T_05cdd_row2_col4{\n",
              "            background-color:  #4f69d9;\n",
              "            color:  #000000;\n",
              "        }#T_05cdd_row3_col0{\n",
              "            background-color:  #f2c9b4;\n",
              "            color:  #000000;\n",
              "        }#T_05cdd_row3_col1{\n",
              "            background-color:  #f7bca1;\n",
              "            color:  #000000;\n",
              "        }#T_05cdd_row3_col2{\n",
              "            background-color:  #f6bda2;\n",
              "            color:  #000000;\n",
              "        }#T_05cdd_row3_col4{\n",
              "            background-color:  #98b9ff;\n",
              "            color:  #000000;\n",
              "        }#T_05cdd_row3_col5{\n",
              "            background-color:  #90b2fe;\n",
              "            color:  #000000;\n",
              "        }#T_05cdd_row4_col3{\n",
              "            background-color:  #4257c9;\n",
              "            color:  #f1f1f1;\n",
              "        }#T_05cdd_row4_col5,#T_05cdd_row5_col4{\n",
              "            background-color:  #b70d28;\n",
              "            color:  #f1f1f1;\n",
              "        }#T_05cdd_row5_col0{\n",
              "            background-color:  #3c4ec2;\n",
              "            color:  #f1f1f1;\n",
              "        }</style><table id=\"T_05cdd_\" ><thead>    <tr>        <th class=\"blank level0\" ></th>        <th class=\"col_heading level0 col0\" >HA_2019</th>        <th class=\"col_heading level0 col1\" >HA_Maio</th>        <th class=\"col_heading level0 col2\" >HA_Junho</th>        <th class=\"col_heading level0 col3\" >ton_2019</th>        <th class=\"col_heading level0 col4\" >ton_Maio</th>        <th class=\"col_heading level0 col5\" >ton_Junho</th>    </tr></thead><tbody>\n",
              "                <tr>\n",
              "                        <th id=\"T_05cdd_level0_row0\" class=\"row_heading level0 row0\" >HA_2019</th>\n",
              "                        <td id=\"T_05cdd_row0_col0\" class=\"data row0 col0\" >1.000000</td>\n",
              "                        <td id=\"T_05cdd_row0_col1\" class=\"data row0 col1\" >0.999860</td>\n",
              "                        <td id=\"T_05cdd_row0_col2\" class=\"data row0 col2\" >0.999874</td>\n",
              "                        <td id=\"T_05cdd_row0_col3\" class=\"data row0 col3\" >0.996060</td>\n",
              "                        <td id=\"T_05cdd_row0_col4\" class=\"data row0 col4\" >0.989983</td>\n",
              "                        <td id=\"T_05cdd_row0_col5\" class=\"data row0 col5\" >0.990034</td>\n",
              "            </tr>\n",
              "            <tr>\n",
              "                        <th id=\"T_05cdd_level0_row1\" class=\"row_heading level0 row1\" >HA_Maio</th>\n",
              "                        <td id=\"T_05cdd_row1_col0\" class=\"data row1 col0\" >0.999860</td>\n",
              "                        <td id=\"T_05cdd_row1_col1\" class=\"data row1 col1\" >1.000000</td>\n",
              "                        <td id=\"T_05cdd_row1_col2\" class=\"data row1 col2\" >0.999994</td>\n",
              "                        <td id=\"T_05cdd_row1_col3\" class=\"data row1 col3\" >0.996756</td>\n",
              "                        <td id=\"T_05cdd_row1_col4\" class=\"data row1 col4\" >0.990644</td>\n",
              "                        <td id=\"T_05cdd_row1_col5\" class=\"data row1 col5\" >0.990632</td>\n",
              "            </tr>\n",
              "            <tr>\n",
              "                        <th id=\"T_05cdd_level0_row2\" class=\"row_heading level0 row2\" >HA_Junho</th>\n",
              "                        <td id=\"T_05cdd_row2_col0\" class=\"data row2 col0\" >0.999874</td>\n",
              "                        <td id=\"T_05cdd_row2_col1\" class=\"data row2 col1\" >0.999994</td>\n",
              "                        <td id=\"T_05cdd_row2_col2\" class=\"data row2 col2\" >1.000000</td>\n",
              "                        <td id=\"T_05cdd_row2_col3\" class=\"data row2 col3\" >0.996722</td>\n",
              "                        <td id=\"T_05cdd_row2_col4\" class=\"data row2 col4\" >0.990667</td>\n",
              "                        <td id=\"T_05cdd_row2_col5\" class=\"data row2 col5\" >0.990687</td>\n",
              "            </tr>\n",
              "            <tr>\n",
              "                        <th id=\"T_05cdd_level0_row3\" class=\"row_heading level0 row3\" >ton_2019</th>\n",
              "                        <td id=\"T_05cdd_row3_col0\" class=\"data row3 col0\" >0.996060</td>\n",
              "                        <td id=\"T_05cdd_row3_col1\" class=\"data row3 col1\" >0.996756</td>\n",
              "                        <td id=\"T_05cdd_row3_col2\" class=\"data row3 col2\" >0.996722</td>\n",
              "                        <td id=\"T_05cdd_row3_col3\" class=\"data row3 col3\" >1.000000</td>\n",
              "                        <td id=\"T_05cdd_row3_col4\" class=\"data row3 col4\" >0.992835</td>\n",
              "                        <td id=\"T_05cdd_row3_col5\" class=\"data row3 col5\" >0.992638</td>\n",
              "            </tr>\n",
              "            <tr>\n",
              "                        <th id=\"T_05cdd_level0_row4\" class=\"row_heading level0 row4\" >ton_Maio</th>\n",
              "                        <td id=\"T_05cdd_row4_col0\" class=\"data row4 col0\" >0.989983</td>\n",
              "                        <td id=\"T_05cdd_row4_col1\" class=\"data row4 col1\" >0.990644</td>\n",
              "                        <td id=\"T_05cdd_row4_col2\" class=\"data row4 col2\" >0.990667</td>\n",
              "                        <td id=\"T_05cdd_row4_col3\" class=\"data row4 col3\" >0.992835</td>\n",
              "                        <td id=\"T_05cdd_row4_col4\" class=\"data row4 col4\" >1.000000</td>\n",
              "                        <td id=\"T_05cdd_row4_col5\" class=\"data row4 col5\" >0.999899</td>\n",
              "            </tr>\n",
              "            <tr>\n",
              "                        <th id=\"T_05cdd_level0_row5\" class=\"row_heading level0 row5\" >ton_Junho</th>\n",
              "                        <td id=\"T_05cdd_row5_col0\" class=\"data row5 col0\" >0.990034</td>\n",
              "                        <td id=\"T_05cdd_row5_col1\" class=\"data row5 col1\" >0.990632</td>\n",
              "                        <td id=\"T_05cdd_row5_col2\" class=\"data row5 col2\" >0.990687</td>\n",
              "                        <td id=\"T_05cdd_row5_col3\" class=\"data row5 col3\" >0.992638</td>\n",
              "                        <td id=\"T_05cdd_row5_col4\" class=\"data row5 col4\" >0.999899</td>\n",
              "                        <td id=\"T_05cdd_row5_col5\" class=\"data row5 col5\" >1.000000</td>\n",
              "            </tr>\n",
              "    </tbody></table>"
            ],
            "text/plain": [
              "<pandas.io.formats.style.Styler at 0x1de83e0aaf0>"
            ]
          },
          "execution_count": 615,
          "metadata": {},
          "output_type": "execute_result"
        }
      ]
    },
    {
      "cell_type": "code",
      "metadata": {
        "id": "4beaa8ba-6979-4c00-8fd3-1f62e4300880",
        "outputId": "bca701ec-3a45-460e-8b87-bfd23302f391"
      },
      "source": [
        "df_agricola_corr.corr()"
      ],
      "id": "4beaa8ba-6979-4c00-8fd3-1f62e4300880",
      "execution_count": null,
      "outputs": [
        {
          "data": {
            "text/html": [
              "<div>\n",
              "<style scoped>\n",
              "    .dataframe tbody tr th:only-of-type {\n",
              "        vertical-align: middle;\n",
              "    }\n",
              "\n",
              "    .dataframe tbody tr th {\n",
              "        vertical-align: top;\n",
              "    }\n",
              "\n",
              "    .dataframe thead th {\n",
              "        text-align: right;\n",
              "    }\n",
              "</style>\n",
              "<table border=\"1\" class=\"dataframe\">\n",
              "  <thead>\n",
              "    <tr style=\"text-align: right;\">\n",
              "      <th></th>\n",
              "      <th>Ramo Agricola</th>\n",
              "      <th>Ramo Pecuario</th>\n",
              "    </tr>\n",
              "  </thead>\n",
              "  <tbody>\n",
              "    <tr>\n",
              "      <th>Ramo Agricola</th>\n",
              "      <td>1.000000</td>\n",
              "      <td>0.841998</td>\n",
              "    </tr>\n",
              "    <tr>\n",
              "      <th>Ramo Pecuario</th>\n",
              "      <td>0.841998</td>\n",
              "      <td>1.000000</td>\n",
              "    </tr>\n",
              "  </tbody>\n",
              "</table>\n",
              "</div>"
            ],
            "text/plain": [
              "               Ramo Agricola  Ramo Pecuario\n",
              "Ramo Agricola       1.000000       0.841998\n",
              "Ramo Pecuario       0.841998       1.000000"
            ]
          },
          "execution_count": 639,
          "metadata": {},
          "output_type": "execute_result"
        }
      ]
    },
    {
      "cell_type": "code",
      "metadata": {
        "id": "69fa61ea-a0bb-49b2-86b6-849695509dcc",
        "outputId": "38a4f3dc-6457-49d0-b17d-73d868d29525"
      },
      "source": [
        "df_agricola_corr.corr().style.background_gradient(cmap='coolwarm')"
      ],
      "id": "69fa61ea-a0bb-49b2-86b6-849695509dcc",
      "execution_count": null,
      "outputs": [
        {
          "data": {
            "text/html": [
              "<style  type=\"text/css\" >\n",
              "#T_f9c3e_row0_col0,#T_f9c3e_row1_col1{\n",
              "            background-color:  #b40426;\n",
              "            color:  #f1f1f1;\n",
              "        }#T_f9c3e_row0_col1,#T_f9c3e_row1_col0{\n",
              "            background-color:  #3b4cc0;\n",
              "            color:  #f1f1f1;\n",
              "        }</style><table id=\"T_f9c3e_\" ><thead>    <tr>        <th class=\"blank level0\" ></th>        <th class=\"col_heading level0 col0\" >Ramo Agricola</th>        <th class=\"col_heading level0 col1\" >Ramo Pecuario</th>    </tr></thead><tbody>\n",
              "                <tr>\n",
              "                        <th id=\"T_f9c3e_level0_row0\" class=\"row_heading level0 row0\" >Ramo Agricola</th>\n",
              "                        <td id=\"T_f9c3e_row0_col0\" class=\"data row0 col0\" >1.000000</td>\n",
              "                        <td id=\"T_f9c3e_row0_col1\" class=\"data row0 col1\" >0.841998</td>\n",
              "            </tr>\n",
              "            <tr>\n",
              "                        <th id=\"T_f9c3e_level0_row1\" class=\"row_heading level0 row1\" >Ramo Pecuario</th>\n",
              "                        <td id=\"T_f9c3e_row1_col0\" class=\"data row1 col0\" >0.841998</td>\n",
              "                        <td id=\"T_f9c3e_row1_col1\" class=\"data row1 col1\" >1.000000</td>\n",
              "            </tr>\n",
              "    </tbody></table>"
            ],
            "text/plain": [
              "<pandas.io.formats.style.Styler at 0x1de84deb1c0>"
            ]
          },
          "execution_count": 624,
          "metadata": {},
          "output_type": "execute_result"
        }
      ]
    },
    {
      "cell_type": "markdown",
      "metadata": {
        "id": "FF7PVgOkKglP"
      },
      "source": [
        "# FIM RESPOSTA"
      ],
      "id": "FF7PVgOkKglP"
    },
    {
      "cell_type": "code",
      "metadata": {
        "id": "75c5365e-c5ab-4a41-9d5a-f99dd161a773"
      },
      "source": [
        "#### DESCONSIDERAR OS TESTES ABAIXO"
      ],
      "id": "75c5365e-c5ab-4a41-9d5a-f99dd161a773",
      "execution_count": null,
      "outputs": []
    },
    {
      "cell_type": "code",
      "metadata": {
        "id": "8cb6d54e-6a0e-41cc-9151-162c834773a9",
        "outputId": "721d94cc-72dc-4884-8de5-5a936d651478"
      },
      "source": [
        "df_agricola = pd.DataFrame({\n",
        "    \"Segmentos\": [\"Insumos\",\"Agropecuaria\",\"Industria\",\"Servicos\"],\n",
        "    \"Ramo Agricola\": [df_PIB_2019[\"Agricola_Insumos\"].loc[0], df_PIB_2019[\"Agricola_Agropecuária\"].loc[0], df_PIB_2019[\"Agricola_Indústria\"].loc[0], df_PIB_2019[\"Agricola_Serviços\"].loc[0]]\n",
        "}) \n",
        "df_agricola"
      ],
      "id": "8cb6d54e-6a0e-41cc-9151-162c834773a9",
      "execution_count": null,
      "outputs": [
        {
          "data": {
            "text/html": [
              "<div>\n",
              "<style scoped>\n",
              "    .dataframe tbody tr th:only-of-type {\n",
              "        vertical-align: middle;\n",
              "    }\n",
              "\n",
              "    .dataframe tbody tr th {\n",
              "        vertical-align: top;\n",
              "    }\n",
              "\n",
              "    .dataframe thead th {\n",
              "        text-align: right;\n",
              "    }\n",
              "</style>\n",
              "<table border=\"1\" class=\"dataframe\">\n",
              "  <thead>\n",
              "    <tr style=\"text-align: right;\">\n",
              "      <th></th>\n",
              "      <th>Segmentos</th>\n",
              "      <th>Ramo Agricola</th>\n",
              "    </tr>\n",
              "  </thead>\n",
              "  <tbody>\n",
              "    <tr>\n",
              "      <th>0</th>\n",
              "      <td>Insumos</td>\n",
              "      <td>53871.00</td>\n",
              "    </tr>\n",
              "    <tr>\n",
              "      <th>1</th>\n",
              "      <td>Agropecuaria</td>\n",
              "      <td>212553.27</td>\n",
              "    </tr>\n",
              "    <tr>\n",
              "      <th>2</th>\n",
              "      <td>Industria</td>\n",
              "      <td>361527.85</td>\n",
              "    </tr>\n",
              "    <tr>\n",
              "      <th>3</th>\n",
              "      <td>Servicos</td>\n",
              "      <td>430287.33</td>\n",
              "    </tr>\n",
              "  </tbody>\n",
              "</table>\n",
              "</div>"
            ],
            "text/plain": [
              "      Segmentos  Ramo Agricola\n",
              "0       Insumos       53871.00\n",
              "1  Agropecuaria      212553.27\n",
              "2     Industria      361527.85\n",
              "3      Servicos      430287.33"
            ]
          },
          "execution_count": 617,
          "metadata": {},
          "output_type": "execute_result"
        }
      ]
    },
    {
      "cell_type": "code",
      "metadata": {
        "id": "426ff2c7-c1fc-4e66-a02d-13a0f9d43334",
        "outputId": "e9633351-2893-4372-a696-7b436e84f052"
      },
      "source": [
        "prod_total_ton_2019 = pd.DataFrame({'Total_Producao_2019':[df_Prod_2019[\"ton_2019\"].sum()]})\n",
        "prod_total_ton_2019"
      ],
      "id": "426ff2c7-c1fc-4e66-a02d-13a0f9d43334",
      "execution_count": null,
      "outputs": [
        {
          "data": {
            "text/html": [
              "<div>\n",
              "<style scoped>\n",
              "    .dataframe tbody tr th:only-of-type {\n",
              "        vertical-align: middle;\n",
              "    }\n",
              "\n",
              "    .dataframe tbody tr th {\n",
              "        vertical-align: top;\n",
              "    }\n",
              "\n",
              "    .dataframe thead th {\n",
              "        text-align: right;\n",
              "    }\n",
              "</style>\n",
              "<table border=\"1\" class=\"dataframe\">\n",
              "  <thead>\n",
              "    <tr style=\"text-align: right;\">\n",
              "      <th></th>\n",
              "      <th>Total_Producao_2019</th>\n",
              "    </tr>\n",
              "  </thead>\n",
              "  <tbody>\n",
              "    <tr>\n",
              "      <th>0</th>\n",
              "      <td>241462754</td>\n",
              "    </tr>\n",
              "  </tbody>\n",
              "</table>\n",
              "</div>"
            ],
            "text/plain": [
              "   Total_Producao_2019\n",
              "0            241462754"
            ]
          },
          "execution_count": 545,
          "metadata": {},
          "output_type": "execute_result"
        }
      ]
    },
    {
      "cell_type": "code",
      "metadata": {
        "id": "4daf274c-045b-43c5-99e5-975ebf594bf5",
        "outputId": "abc60fec-af06-4dda-c3c5-fa03b8d52357"
      },
      "source": [
        "df_agricola.corr()"
      ],
      "id": "4daf274c-045b-43c5-99e5-975ebf594bf5",
      "execution_count": null,
      "outputs": [
        {
          "data": {
            "text/html": [
              "<div>\n",
              "<style scoped>\n",
              "    .dataframe tbody tr th:only-of-type {\n",
              "        vertical-align: middle;\n",
              "    }\n",
              "\n",
              "    .dataframe tbody tr th {\n",
              "        vertical-align: top;\n",
              "    }\n",
              "\n",
              "    .dataframe thead th {\n",
              "        text-align: right;\n",
              "    }\n",
              "</style>\n",
              "<table border=\"1\" class=\"dataframe\">\n",
              "  <thead>\n",
              "    <tr style=\"text-align: right;\">\n",
              "      <th></th>\n",
              "      <th>Agricola</th>\n",
              "    </tr>\n",
              "  </thead>\n",
              "  <tbody>\n",
              "    <tr>\n",
              "      <th>Agricola</th>\n",
              "      <td>1.0</td>\n",
              "    </tr>\n",
              "  </tbody>\n",
              "</table>\n",
              "</div>"
            ],
            "text/plain": [
              "          Agricola\n",
              "Agricola       1.0"
            ]
          },
          "execution_count": 531,
          "metadata": {},
          "output_type": "execute_result"
        }
      ]
    },
    {
      "cell_type": "code",
      "metadata": {
        "id": "48dde6bc-aaa1-430e-9471-c28cb1d12883",
        "outputId": "786e87e5-45a1-4614-ba8f-a9d7bde280a1"
      },
      "source": [
        "df_cor_PIB_2019[['Insumos','Agropecuaria','Industria','Servicos']]"
      ],
      "id": "48dde6bc-aaa1-430e-9471-c28cb1d12883",
      "execution_count": null,
      "outputs": [
        {
          "data": {
            "text/html": [
              "<div>\n",
              "<style scoped>\n",
              "    .dataframe tbody tr th:only-of-type {\n",
              "        vertical-align: middle;\n",
              "    }\n",
              "\n",
              "    .dataframe tbody tr th {\n",
              "        vertical-align: top;\n",
              "    }\n",
              "\n",
              "    .dataframe thead th {\n",
              "        text-align: right;\n",
              "    }\n",
              "</style>\n",
              "<table border=\"1\" class=\"dataframe\">\n",
              "  <thead>\n",
              "    <tr style=\"text-align: right;\">\n",
              "      <th></th>\n",
              "      <th>Insumos</th>\n",
              "      <th>Agropecuaria</th>\n",
              "      <th>Industria</th>\n",
              "      <th>Servicos</th>\n",
              "    </tr>\n",
              "  </thead>\n",
              "  <tbody>\n",
              "    <tr>\n",
              "      <th>0</th>\n",
              "      <td>53871.00</td>\n",
              "      <td>212553.27</td>\n",
              "      <td>361527.85</td>\n",
              "      <td>430287.33</td>\n",
              "    </tr>\n",
              "    <tr>\n",
              "      <th>1</th>\n",
              "      <td>25259.81</td>\n",
              "      <td>138481.93</td>\n",
              "      <td>105080.50</td>\n",
              "      <td>225933.69</td>\n",
              "    </tr>\n",
              "  </tbody>\n",
              "</table>\n",
              "</div>"
            ],
            "text/plain": [
              "    Insumos  Agropecuaria  Industria   Servicos\n",
              "0  53871.00     212553.27  361527.85  430287.33\n",
              "1  25259.81     138481.93  105080.50  225933.69"
            ]
          },
          "execution_count": 472,
          "metadata": {},
          "output_type": "execute_result"
        }
      ]
    },
    {
      "cell_type": "code",
      "metadata": {
        "id": "f7b54eed-eae6-478e-a1b0-7feef041c468"
      },
      "source": [
        ""
      ],
      "id": "f7b54eed-eae6-478e-a1b0-7feef041c468",
      "execution_count": null,
      "outputs": []
    },
    {
      "cell_type": "code",
      "metadata": {
        "id": "e4191805-d5a4-41c5-a07d-637f81e9a11e",
        "outputId": "ccac5151-d2dd-4673-de9f-9cd30e2a77d5"
      },
      "source": [
        "df_cor_PIB_2019[['Total']].loc[[0]]"
      ],
      "id": "e4191805-d5a4-41c5-a07d-637f81e9a11e",
      "execution_count": null,
      "outputs": [
        {
          "data": {
            "text/html": [
              "<div>\n",
              "<style scoped>\n",
              "    .dataframe tbody tr th:only-of-type {\n",
              "        vertical-align: middle;\n",
              "    }\n",
              "\n",
              "    .dataframe tbody tr th {\n",
              "        vertical-align: top;\n",
              "    }\n",
              "\n",
              "    .dataframe thead th {\n",
              "        text-align: right;\n",
              "    }\n",
              "</style>\n",
              "<table border=\"1\" class=\"dataframe\">\n",
              "  <thead>\n",
              "    <tr style=\"text-align: right;\">\n",
              "      <th></th>\n",
              "      <th>Total</th>\n",
              "    </tr>\n",
              "  </thead>\n",
              "  <tbody>\n",
              "    <tr>\n",
              "      <th>0</th>\n",
              "      <td>1058239.45</td>\n",
              "    </tr>\n",
              "  </tbody>\n",
              "</table>\n",
              "</div>"
            ],
            "text/plain": [
              "        Total\n",
              "0  1058239.45"
            ]
          },
          "execution_count": 474,
          "metadata": {},
          "output_type": "execute_result"
        }
      ]
    },
    {
      "cell_type": "code",
      "metadata": {
        "id": "8e07dfa6-65f5-45bd-9fe0-a9b14c008bba"
      },
      "source": [
        "import matplotlib.pyplot as plt\n",
        "import seaborn as sns"
      ],
      "id": "8e07dfa6-65f5-45bd-9fe0-a9b14c008bba",
      "execution_count": null,
      "outputs": []
    },
    {
      "cell_type": "code",
      "metadata": {
        "id": "a826bc18-0409-40e1-aaf7-0a040b6ef536",
        "outputId": "ba09f7c2-d231-47de-bf49-c280f0f2a059"
      },
      "source": [
        "#x = df_agricola[['Segmentos']]\n",
        "#y = prod_total_ton_2019['Total_Producao_2019']\n",
        "#plt.xlabel(x)\n",
        "#plt.ylabem(y)\n",
        "plt.boxplot(df_agricola['Ramo Agricola'])"
      ],
      "id": "a826bc18-0409-40e1-aaf7-0a040b6ef536",
      "execution_count": null,
      "outputs": [
        {
          "data": {
            "text/plain": [
              "{'whiskers': [<matplotlib.lines.Line2D at 0x1de84a9b6a0>,\n",
              "  <matplotlib.lines.Line2D at 0x1de84a9ba00>],\n",
              " 'caps': [<matplotlib.lines.Line2D at 0x1de84a9bd60>,\n",
              "  <matplotlib.lines.Line2D at 0x1de84aa8100>],\n",
              " 'boxes': [<matplotlib.lines.Line2D at 0x1de84a9b310>],\n",
              " 'medians': [<matplotlib.lines.Line2D at 0x1de84aa8460>],\n",
              " 'fliers': [<matplotlib.lines.Line2D at 0x1de84aa87c0>],\n",
              " 'means': []}"
            ]
          },
          "execution_count": 554,
          "metadata": {},
          "output_type": "execute_result"
        },
        {
          "data": {
            "image/png": "[encoded data removed]",
            "text/plain": [
              "<Figure size 432x288 with 1 Axes>"
            ]
          },
          "metadata": {
            "needs_background": "light"
          },
          "output_type": "display_data"
        }
      ]
    },
    {
      "cell_type": "code",
      "metadata": {
        "id": "fd1ac92d-d091-4445-ab0c-591e20a8f187",
        "outputId": "06b123c4-7834-4e42-8294-8a5a741cee7d"
      },
      "source": [
        "#x = [prod_total_ton_2019[\"Total_Producao_2019\"]]\n",
        "#x = df_cor_PIB_2019[['Total']].loc[[0]]\n",
        "df_agricola.groupby(\"Segmentos\")[\"Ramo Agricola\"].sum().plot.bar(title=\"Teste\")\n",
        "plt.xlabel(\"Segmentos\")\n",
        "plt.ylabel(\"Ramo Agricola\")\n",
        "plt.xticks(rotation='horizontal');"
      ],
      "id": "fd1ac92d-d091-4445-ab0c-591e20a8f187",
      "execution_count": null,
      "outputs": [
        {
          "data": {
            "image/png": "[encoded data removed]",
            "text/plain": [
              "<Figure size 432x288 with 1 Axes>"
            ]
          },
          "metadata": {
            "needs_background": "light"
          },
          "output_type": "display_data"
        }
      ]
    },
    {
      "cell_type": "code",
      "metadata": {
        "id": "9a0bbaca-e6cf-4805-a7ee-5fb6857632bf",
        "outputId": "468ef483-ff63-478f-ff5f-5e8865e4a7c2"
      },
      "source": [
        "x = df_cor_PIB_2019[['Insumos','Agropecuaria','Industria','Servicos']].loc[[0]]\n",
        "# y = df_cor_PIB_2019[['Insumos','Agropecuaria','Industria','Servicos']].loc[[1]]\n",
        "y = [prod_total_ton_2019,prod_total_ton_2019,prod_total_ton_2019,prod_total_ton_2019]\n",
        "# plt.scatter(x,y)\n",
        "\n",
        "df_ramos.corr()"
      ],
      "id": "9a0bbaca-e6cf-4805-a7ee-5fb6857632bf",
      "execution_count": null,
      "outputs": [
        {
          "data": {
            "text/html": [
              "<div>\n",
              "<style scoped>\n",
              "    .dataframe tbody tr th:only-of-type {\n",
              "        vertical-align: middle;\n",
              "    }\n",
              "\n",
              "    .dataframe tbody tr th {\n",
              "        vertical-align: top;\n",
              "    }\n",
              "\n",
              "    .dataframe thead th {\n",
              "        text-align: right;\n",
              "    }\n",
              "</style>\n",
              "<table border=\"1\" class=\"dataframe\">\n",
              "  <thead>\n",
              "    <tr style=\"text-align: right;\">\n",
              "      <th></th>\n",
              "      <th>Agricola</th>\n",
              "      <th>Pecuario</th>\n",
              "    </tr>\n",
              "  </thead>\n",
              "  <tbody>\n",
              "    <tr>\n",
              "      <th>Agricola</th>\n",
              "      <td>1.000000</td>\n",
              "      <td>0.841998</td>\n",
              "    </tr>\n",
              "    <tr>\n",
              "      <th>Pecuario</th>\n",
              "      <td>0.841998</td>\n",
              "      <td>1.000000</td>\n",
              "    </tr>\n",
              "  </tbody>\n",
              "</table>\n",
              "</div>"
            ],
            "text/plain": [
              "          Agricola  Pecuario\n",
              "Agricola  1.000000  0.841998\n",
              "Pecuario  0.841998  1.000000"
            ]
          },
          "execution_count": 495,
          "metadata": {},
          "output_type": "execute_result"
        }
      ]
    },
    {
      "cell_type": "code",
      "metadata": {
        "id": "d4b27be2-d494-4c30-aa84-b1f656520eae"
      },
      "source": [
        "ax = sns.lmplot(x=\"X\", data=df_ramos)\n",
        "ax = sns.lmplot(y=\"Y\", data=)\n",
        "ax.fig.set_size_inches(12,6)\n",
        "ax.fig.suptitle('PIB Agricola x Produção 2019', fontsize=14, y=1.02)\n",
        "ax.set_xlabels('Ramo Agricola', fontsize=14)\n",
        "ax.set_ylabels('Total Toneladas 2019', fontsize=14)\n",
        "ax"
      ],
      "id": "d4b27be2-d494-4c30-aa84-b1f656520eae",
      "execution_count": null,
      "outputs": []
    },
    {
      "cell_type": "code",
      "metadata": {
        "id": "a3ba05c7-8f0c-437a-b985-cf6798234dd9"
      },
      "source": [
        "# 4) DEFINA A CORRELAÇÃO ENTRE A PRODUÇÃO AGRÍCOLA E O PIB DO RAMO AGRÍCOLA E PECUÁRIO EM 2019. \n",
        "\n",
        "\n",
        "# \tQUAL SEGMENTO POSSUI MAIOR CORRELAÇÃO E QUAL POSSUI MENOR CORRELAÇÃO? \n",
        "#   DEMONSTRE NUM GRÁFICO E EXPLIQUE OS COEFICIENTES.\n",
        "df_Prod_2019[['UF','ton_2019']]"
      ],
      "id": "a3ba05c7-8f0c-437a-b985-cf6798234dd9",
      "execution_count": null,
      "outputs": []
    },
    {
      "cell_type": "code",
      "metadata": {
        "id": "6b1b2284-73ac-4c86-8f8b-3eccef97dc6e",
        "outputId": "663296b1-bdca-406f-9d54-d97418bee80f"
      },
      "source": [
        "df_PIB_2019"
      ],
      "id": "6b1b2284-73ac-4c86-8f8b-3eccef97dc6e",
      "execution_count": null,
      "outputs": [
        {
          "data": {
            "text/html": [
              "<div>\n",
              "<style scoped>\n",
              "    .dataframe tbody tr th:only-of-type {\n",
              "        vertical-align: middle;\n",
              "    }\n",
              "\n",
              "    .dataframe tbody tr th {\n",
              "        vertical-align: top;\n",
              "    }\n",
              "\n",
              "    .dataframe thead th {\n",
              "        text-align: right;\n",
              "    }\n",
              "</style>\n",
              "<table border=\"1\" class=\"dataframe\">\n",
              "  <thead>\n",
              "    <tr style=\"text-align: right;\">\n",
              "      <th></th>\n",
              "      <th>ANO</th>\n",
              "      <th>Agricola_Insumos</th>\n",
              "      <th>Agricola_Agropecuária</th>\n",
              "      <th>Agricola_Indústria</th>\n",
              "      <th>Agricola_Serviços</th>\n",
              "      <th>Total_Ramo_Agricola</th>\n",
              "      <th>Pecuario_Insumos</th>\n",
              "      <th>Pecuario_Agropecuária</th>\n",
              "      <th>Pecuario_Indústria</th>\n",
              "      <th>Pecuario_Serviços</th>\n",
              "      <th>Total_Ramo_Pecuario</th>\n",
              "    </tr>\n",
              "  </thead>\n",
              "  <tbody>\n",
              "    <tr>\n",
              "      <th>0</th>\n",
              "      <td>2019</td>\n",
              "      <td>53871.0</td>\n",
              "      <td>212553.27</td>\n",
              "      <td>361527.85</td>\n",
              "      <td>430287.33</td>\n",
              "      <td>1058239.45</td>\n",
              "      <td>25259.81</td>\n",
              "      <td>138481.93</td>\n",
              "      <td>105080.5</td>\n",
              "      <td>225933.69</td>\n",
              "      <td>494755.93</td>\n",
              "    </tr>\n",
              "  </tbody>\n",
              "</table>\n",
              "</div>"
            ],
            "text/plain": [
              "    ANO  Agricola_Insumos  Agricola_Agropecuária  Agricola_Indústria  \\\n",
              "0  2019           53871.0              212553.27           361527.85   \n",
              "\n",
              "   Agricola_Serviços  Total_Ramo_Agricola  Pecuario_Insumos  \\\n",
              "0          430287.33           1058239.45          25259.81   \n",
              "\n",
              "   Pecuario_Agropecuária  Pecuario_Indústria  Pecuario_Serviços  \\\n",
              "0              138481.93            105080.5          225933.69   \n",
              "\n",
              "   Total_Ramo_Pecuario  \n",
              "0            494755.93  "
            ]
          },
          "execution_count": 520,
          "metadata": {},
          "output_type": "execute_result"
        }
      ]
    },
    {
      "cell_type": "code",
      "metadata": {
        "id": "06f9df9a-48c0-4ce5-ac89-f3ffa26ce330",
        "outputId": "1ca9382f-7b67-49a6-e19c-65b702aeed36"
      },
      "source": [
        "prod_total_ton_2019"
      ],
      "id": "06f9df9a-48c0-4ce5-ac89-f3ffa26ce330",
      "execution_count": null,
      "outputs": [
        {
          "data": {
            "text/html": [
              "<div>\n",
              "<style scoped>\n",
              "    .dataframe tbody tr th:only-of-type {\n",
              "        vertical-align: middle;\n",
              "    }\n",
              "\n",
              "    .dataframe tbody tr th {\n",
              "        vertical-align: top;\n",
              "    }\n",
              "\n",
              "    .dataframe thead th {\n",
              "        text-align: right;\n",
              "    }\n",
              "</style>\n",
              "<table border=\"1\" class=\"dataframe\">\n",
              "  <thead>\n",
              "    <tr style=\"text-align: right;\">\n",
              "      <th></th>\n",
              "      <th>Total_Producao_2019</th>\n",
              "    </tr>\n",
              "  </thead>\n",
              "  <tbody>\n",
              "    <tr>\n",
              "      <th>0</th>\n",
              "      <td>241462754</td>\n",
              "    </tr>\n",
              "  </tbody>\n",
              "</table>\n",
              "</div>"
            ],
            "text/plain": [
              "   Total_Producao_2019\n",
              "0            241462754"
            ]
          },
          "execution_count": 503,
          "metadata": {},
          "output_type": "execute_result"
        }
      ]
    },
    {
      "cell_type": "code",
      "metadata": {
        "id": "ea72e1a9-746f-4659-9523-6c4f261872fc",
        "outputId": "721e07ef-beae-4ab7-a91d-c98d04563b76"
      },
      "source": [
        "df_ramos.corr()"
      ],
      "id": "ea72e1a9-746f-4659-9523-6c4f261872fc",
      "execution_count": null,
      "outputs": [
        {
          "data": {
            "text/html": [
              "<div>\n",
              "<style scoped>\n",
              "    .dataframe tbody tr th:only-of-type {\n",
              "        vertical-align: middle;\n",
              "    }\n",
              "\n",
              "    .dataframe tbody tr th {\n",
              "        vertical-align: top;\n",
              "    }\n",
              "\n",
              "    .dataframe thead th {\n",
              "        text-align: right;\n",
              "    }\n",
              "</style>\n",
              "<table border=\"1\" class=\"dataframe\">\n",
              "  <thead>\n",
              "    <tr style=\"text-align: right;\">\n",
              "      <th></th>\n",
              "      <th>Agricola</th>\n",
              "      <th>Pecuario</th>\n",
              "    </tr>\n",
              "  </thead>\n",
              "  <tbody>\n",
              "    <tr>\n",
              "      <th>Agricola</th>\n",
              "      <td>1.000000</td>\n",
              "      <td>0.841998</td>\n",
              "    </tr>\n",
              "    <tr>\n",
              "      <th>Pecuario</th>\n",
              "      <td>0.841998</td>\n",
              "      <td>1.000000</td>\n",
              "    </tr>\n",
              "  </tbody>\n",
              "</table>\n",
              "</div>"
            ],
            "text/plain": [
              "          Agricola  Pecuario\n",
              "Agricola  1.000000  0.841998\n",
              "Pecuario  0.841998  1.000000"
            ]
          },
          "execution_count": 504,
          "metadata": {},
          "output_type": "execute_result"
        }
      ]
    },
    {
      "cell_type": "code",
      "metadata": {
        "id": "249ed389-fe6d-49d7-b4bd-f342b311222e",
        "outputId": "3083379a-d8c6-4205-d444-348d0aba00ac"
      },
      "source": [
        "sns.heatmap(df_ramos.corr(), annot=True, vmin=-1,vmax=1, cmap='coolwarm')"
      ],
      "id": "249ed389-fe6d-49d7-b4bd-f342b311222e",
      "execution_count": null,
      "outputs": [
        {
          "data": {
            "text/plain": [
              "<AxesSubplot:>"
            ]
          },
          "execution_count": 513,
          "metadata": {},
          "output_type": "execute_result"
        },
        {
          "data": {
            "image/png": "[encoded data removed]",
            "text/plain": [
              "<Figure size 432x288 with 2 Axes>"
            ]
          },
          "metadata": {
            "needs_background": "light"
          },
          "output_type": "display_data"
        }
      ]
    },
    {
      "cell_type": "code",
      "metadata": {
        "id": "b482da44-de8a-4808-a8dc-84b2107fd48c",
        "outputId": "e41d6578-306e-46bc-b2e1-795f4d057d82"
      },
      "source": [
        "mask = np.triu(df_ramos)\n",
        "sns.heatmap(df_ramos, annot=True, cmap='coolwarm',mask=mask)"
      ],
      "id": "b482da44-de8a-4808-a8dc-84b2107fd48c",
      "execution_count": null,
      "outputs": [
        {
          "data": {
            "text/plain": [
              "<AxesSubplot:>"
            ]
          },
          "execution_count": 518,
          "metadata": {},
          "output_type": "execute_result"
        },
        {
          "data": {
            "image/png": "[encoded data removed]",
            "text/plain": [
              "<Figure size 432x288 with 2 Axes>"
            ]
          },
          "metadata": {
            "needs_background": "light"
          },
          "output_type": "display_data"
        }
      ]
    }
  ]
}