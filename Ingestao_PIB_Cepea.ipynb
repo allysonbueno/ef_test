{
  "nbformat": 4,
  "nbformat_minor": 0,
  "metadata": {
    "colab": {
      "name": "Ingestao_PIB_Cepea.ipynb",
      "provenance": [],
      "collapsed_sections": [],
      "authorship_tag": "ABX9TyNxQbQod4vUzSEbBtv6onpt",
      "include_colab_link": true
    },
    "kernelspec": {
      "name": "python3",
      "display_name": "Python 3"
    },
    "language_info": {
      "name": "python"
    }
  },
  "cells": [
    {
      "cell_type": "markdown",
      "metadata": {
        "id": "view-in-github",
        "colab_type": "text"
      },
      "source": [
        "<a href=\"https://colab.research.google.com/github/allysonbueno/ef_test/blob/main/Ingestao_PIB_Cepea.ipynb\" target=\"_parent\"><img src=\"https://colab.research.google.com/assets/colab-badge.svg\" alt=\"Open In Colab\"/></a>"
      ]
    },
    {
      "cell_type": "code",
      "metadata": {
        "id": "QmCbvxlIx228"
      },
      "source": [
        "import pandas as pd"
      ],
      "execution_count": 1,
      "outputs": []
    },
    {
      "cell_type": "code",
      "metadata": {
        "id": "BA6OBFr_zKZt"
      },
      "source": [
        "# pip install pandera\n",
        "import pandera as pa"
      ],
      "execution_count": 2,
      "outputs": []
    },
    {
      "cell_type": "code",
      "metadata": {
        "id": "9G6wa-AkCeL9"
      },
      "source": [
        "pd.options.display.float_format = '{:.2f}'.format"
      ],
      "execution_count": 3,
      "outputs": []
    },
    {
      "cell_type": "code",
      "metadata": {
        "id": "Amm0J370yF9F"
      },
      "source": [
        "# PIB-renda do Agronegócio Brasileiro, 1996 a 2019, em R$ Milhões de dez/2019\n",
        "df_pib_renda = pd.read_excel('PIB_Cepea.xlsx', index_col = None, skiprows= 7, nrows= 24, sheet_name='PIB', usecols='A:R')"
      ],
      "execution_count": 4,
      "outputs": []
    },
    {
      "cell_type": "code",
      "metadata": {
        "id": "wQem9x7l5Gtz"
      },
      "source": [
        "df_pib_renda.columns=list(range(0,len(df_pib_renda.columns)))"
      ],
      "execution_count": 5,
      "outputs": []
    },
    {
      "cell_type": "code",
      "metadata": {
        "id": "Ax2kSytn6SL0"
      },
      "source": [
        "df_pib_renda.drop(columns=[6,12],inplace=True)"
      ],
      "execution_count": 6,
      "outputs": []
    },
    {
      "cell_type": "code",
      "metadata": {
        "id": "g45bfDzStjnz"
      },
      "source": [
        "df_pib_renda.rename(columns={0:\"ANO\",1:\"Agronegocio_Insumos\",2:\"Agronegocio_Agropecuaria\",3:\"Agronegocio_Industria\",4:\"Agronegocio_Servicos\",5:\"Total_Agronegocio\",\n",
        "           7:\"Agricola_Insumos\",8:\"Agricola_Agropecuaria\",9:\"Agricola_Industria\",10:\"Agricola_Servicos\",11:\"Total_Ramo_Agricola\",\t\n",
        "           13:\"Pecuario_Insumos\",14:\"Pecuario_Agropecuaria\",15:\"Pecuario_Industria\",16:\"Pecuario_Servicos\",17:\"Total_Ramo_Pecuario\"},inplace=True)"
      ],
      "execution_count": 8,
      "outputs": []
    },
    {
      "cell_type": "code",
      "metadata": {
        "id": "O9diXjPT3pm1"
      },
      "source": [
        "df_pib_renda['ANO'] = df_pib_renda['ANO'].astype(str).apply(lambda x: x.replace('.0',''))"
      ],
      "execution_count": 9,
      "outputs": []
    },
    {
      "cell_type": "code",
      "metadata": {
        "id": "qbjPAUCTDo9P"
      },
      "source": [
        "#  PIB do Agronegócio Brasileiro, 1996 a 2019, em R$ Milhões correntes\n",
        "df_pib = pd.read_excel('PIB_Cepea.xlsx', index_col = None, skiprows= 7, nrows= 24, sheet_name='PIB', usecols='A:AJ')"
      ],
      "execution_count": 11,
      "outputs": []
    },
    {
      "cell_type": "code",
      "metadata": {
        "id": "Biom0Mj6GpYq"
      },
      "source": [
        "df_pib.columns=list(range(0,len(df_pib.columns)))"
      ],
      "execution_count": 12,
      "outputs": []
    },
    {
      "cell_type": "code",
      "metadata": {
        "id": "zYQ54PQfGpYs"
      },
      "source": [
        "coluna = 1\n",
        "while coluna <= 18:\n",
        "  df_pib.drop(columns=[coluna],inplace=True)\n",
        "  coluna += 1\n",
        "df_pib.drop(columns=[24,30],inplace=True)"
      ],
      "execution_count": 13,
      "outputs": []
    },
    {
      "cell_type": "code",
      "metadata": {
        "id": "0fwhfh95GpYs"
      },
      "source": [
        "df_pib.rename(columns={0:\"ANO\",19:\"Agronegocio_Insumos\",20:\"Agronegocio_Agropecuaria\",21:\"Agronegocio_Industria\",22:\"Agronegocio_Servicos\",23:\"Total_Agronegocio\",\n",
        "           25:\"Agricola_Insumos\",26:\"Agricola_Agropecuaria\",27:\"Agricola_Industria\",28:\"Agricola_Servicos\",29:\"Total_Ramo_Agricola\",\t\n",
        "           31:\"Pecuario_Insumos\",32:\"Pecuario_Agropecuaria\",33:\"Pecuario_Industria\",34:\"Pecuario_Servicos\",35:\"Total_Ramo_Pecuario\"},inplace=True)"
      ],
      "execution_count": 14,
      "outputs": []
    },
    {
      "cell_type": "code",
      "metadata": {
        "id": "Li0ScMjy-vfS"
      },
      "source": [
        "### TO SQL\n",
        "# pip install pyodbc\n",
        "import pyodbc"
      ],
      "execution_count": null,
      "outputs": []
    },
    {
      "cell_type": "code",
      "metadata": {
        "id": "wO17xTzN8GRv"
      },
      "source": [
        "driver = 'SQL Server'\n",
        "server = 'LOCALDB#A39D6D0C'\n",
        "db = 'DesafioEF'\n",
        "tcon = 'yes'\n",
        "uname = 'sa'\n",
        "pword = 'xxxxxxxxxx'"
      ],
      "execution_count": null,
      "outputs": []
    },
    {
      "cell_type": "code",
      "metadata": {
        "id": "eHD7Oa2BK5al"
      },
      "source": [
        "dbconn = pyodbc.connect(driver='{SQL Server Native Client 11.0}', host=server, database=db,trusted_connection=tcon, user=uname, password=pword)"
      ],
      "execution_count": null,
      "outputs": []
    },
    {
      "cell_type": "code",
      "metadata": {
        "id": "WwITSbCnK5eA"
      },
      "source": [
        "cursor = dbconn.cursor()"
      ],
      "execution_count": null,
      "outputs": []
    },
    {
      "cell_type": "code",
      "metadata": {
        "id": "Lf0km5IW5voe"
      },
      "source": [
        "cursor.execute(\n",
        "\"CREATE TABLE [dbo].[PIB_Cepea_PIB_Renda](\"\n",
        "\"\t[ANO] [int] NOT NULL,\"\n",
        "\"\t[Agronegocio_Insumos] [float] NOT NULL,\"\n",
        "\"\t[Agronegocio_Agropecuaria] [float] NOT NULL,\"\n",
        "\"\t[Agronegocio_Industria] [float] NOT NULL,\"\n",
        "\"\t[Agronegocio_Serviços] [float] NOT NULL,\"\n",
        "\"\t[Total_Agronegócio] [float] NOT NULL,\"\n",
        "\"\t[Agricola_Insumos] [float] NOT NULL,\"\n",
        "\"\t[Agricola_Agropecuária] [float] NOT NULL,\"\n",
        "\"\t[Agricola_Indústria] [float] NOT NULL,\"\n",
        "\"\t[Agricola_Serviços] [float] NOT NULL,\"\n",
        "\"\t[Total_Ramo_Agricola] [float] NOT NULL,\"\n",
        "\"\t[Pecuario_Insumos] [float] NOT NULL,\"\n",
        "\"\t[Pecuario_Agropecuária] [float] NOT NULL,\"\n",
        "\"\t[Pecuario_Indústria] [float] NOT NULL,\"\n",
        "\"\t[Pecuario_Serviços] [float] NOT NULL,\"\n",
        "\"\t[Total_Ramo_Pecuario] [float] NOT NULL\") "
      ],
      "execution_count": null,
      "outputs": []
    },
    {
      "cell_type": "code",
      "metadata": {
        "id": "q959OsBFK5hU"
      },
      "source": [
        "cursor.execute(\n",
        "\"CREATE TABLE [dbo].[PIB_Cepea_PIB](\"\n",
        "\"\t[ANO] [int] NOT NULL,\"\n",
        "\"\t[Agronegocio_Insumos] [float] NOT NULL,\"\n",
        "\"\t[Agronegocio_Agropecuaria] [float] NOT NULL,\"\n",
        "\"\t[Agronegocio_Industria] [float] NOT NULL,\"\n",
        "\"\t[Agronegocio_Serviços] [float] NOT NULL,\"\n",
        "\"\t[Total_Agronegócio] [float] NOT NULL,\"\n",
        "\"\t[Agricola_Insumos] [float] NOT NULL,\"\n",
        "\"\t[Agricola_Agropecuária] [float] NOT NULL,\"\n",
        "\"\t[Agricola_Indústria] [float] NOT NULL,\"\n",
        "\"\t[Agricola_Serviços] [float] NOT NULL,\"\n",
        "\"\t[Total_Ramo_Agricola] [float] NOT NULL,\"\n",
        "\"\t[Pecuario_Insumos] [float] NOT NULL,\"\n",
        "\"\t[Pecuario_Agropecuária] [float] NOT NULL,\"\n",
        "\"\t[Pecuario_Indústria] [float] NOT NULL,\"\n",
        "\"\t[Pecuario_Serviços] [float] NOT NULL,\"\n",
        "\"\t[Total_Ramo_Pecuario] [float] NOT NULL\") "
      ],
      "execution_count": null,
      "outputs": []
    },
    {
      "cell_type": "code",
      "metadata": {
        "id": "IPijikly0dtm"
      },
      "source": [
        "for index, row in df_pib_renda.iterrows():\n",
        "     cursor.execute(\"INSERT INTO DesafioEF.PIB_Cepea_PIB_Renda (ANO,Agronegocio_Insumos,Agronegocio_Agropecuaria,Agronegocio_Industria,Agronegocio_Serviços,Total_Agronegócio,Agricola_Insumos,Agricola_Agropecuária,Agricola_Indústria,Agricola_Serviços,Total_Ramo_Agricola,Pecuario_Insumos,Pecuario_Agropecuária,Pecuario_Indústria,Pecuario_Serviços,Total_Ramo_Pecuario) values(?,?,?,?,?,?,?,?,?,?,?,?,?,?,?,?)\", row.ANO,row.Agronegocio_Insumos,row.Agronegocio_Agropecuaria,row.Agronegocio_Industria,row.Agronegocio_Serviços,row.Total_Agronegócio,row.Agricola_Insumos,row.Agricola_Agropecuária,row.Agricola_Indústria,row.Agricola_Serviços,row.Total_Ramo_Agricola,row.Pecuario_Insumos,row.Pecuario_Agropecuária,row.Pecuario_Indústria,row.Pecuario_Serviços,row.Total_Ramo_Pecuario)\n",
        "     dbconn.commit()"
      ],
      "execution_count": null,
      "outputs": []
    },
    {
      "cell_type": "code",
      "metadata": {
        "id": "E-pf0lvf9YJX"
      },
      "source": [
        "for index, row in df_pib.iterrows():\n",
        "     cursor.execute(\"INSERT INTO DesafioEF.PIB_Cepea_PIB (ANO,Agronegocio_Insumos,Agronegocio_Agropecuaria,Agronegocio_Industria,Agronegocio_Serviços,Total_Agronegócio,Agricola_Insumos,Agricola_Agropecuária,Agricola_Indústria,Agricola_Serviços,Total_Ramo_Agricola,Pecuario_Insumos,Pecuario_Agropecuária,Pecuario_Indústria,Pecuario_Serviços,Total_Ramo_Pecuario) values(?,?,?,?,?,?,?,?,?,?,?,?,?,?,?,?)\", row.ANO,row.Agronegocio_Insumos,row.Agronegocio_Agropecuaria,row.Agronegocio_Industria,row.Agronegocio_Serviços,row.Total_Agronegócio,row.Agricola_Insumos,row.Agricola_Agropecuária,row.Agricola_Indústria,row.Agricola_Serviços,row.Total_Ramo_Agricola,row.Pecuario_Insumos,row.Pecuario_Agropecuária,row.Pecuario_Indústria,row.Pecuario_Serviços,row.Total_Ramo_Pecuario)\n",
        "dbconn.commit()"
      ],
      "execution_count": null,
      "outputs": []
    },
    {
      "cell_type": "code",
      "metadata": {
        "id": "M6e-Enk8K5jy"
      },
      "source": [
        "cursor.close()\n",
        "dbconn.close()"
      ],
      "execution_count": null,
      "outputs": []
    }
  ]
}