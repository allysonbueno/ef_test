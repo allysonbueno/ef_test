{
  "nbformat": 4,
  "nbformat_minor": 5,
  "metadata": {
    "kernelspec": {
      "display_name": "Python 3",
      "language": "python",
      "name": "python3"
    },
    "language_info": {
      "codemirror_mode": {
        "name": "ipython",
        "version": 3
      },
      "file_extension": ".py",
      "mimetype": "text/x-python",
      "name": "python",
      "nbconvert_exporter": "python",
      "pygments_lexer": "ipython3",
      "version": "3.8.8"
    },
    "colab": {
      "name": "Questão-3-Desafio.ipynb",
      "provenance": [],
      "collapsed_sections": [],
      "include_colab_link": true
    }
  },
  "cells": [
    {
      "cell_type": "markdown",
      "metadata": {
        "id": "view-in-github",
        "colab_type": "text"
      },
      "source": [
        "<a href=\"https://colab.research.google.com/github/allysonbueno/ef_test/blob/main/Quest%C3%A3o_3_Desafio.ipynb\" target=\"_parent\"><img src=\"https://colab.research.google.com/assets/colab-badge.svg\" alt=\"Open In Colab\"/></a>"
      ]
    },
    {
      "cell_type": "code",
      "metadata": {
        "id": "d8abcaee-5ba9-4de5-a348-98141359fb13"
      },
      "source": [
        "import pandas as pd\n",
        "import pyodbc"
      ],
      "id": "d8abcaee-5ba9-4de5-a348-98141359fb13",
      "execution_count": null,
      "outputs": []
    },
    {
      "cell_type": "code",
      "metadata": {
        "id": "9cdb8197-2595-4ee8-808d-94989ca81c80"
      },
      "source": [
        "server = 'localhost' \n",
        "database = 'DesafioEF' \n",
        "username = 'datalake' \n",
        "password = 'xxxxxxxx'  \n",
        "\n",
        "conn = pyodbc.connect('DRIVER={SQL Server};SERVER='+server+';DATABASE='+database+';UID='+username+';PWD='+ password)\n",
        "cursor = conn.cursor()"
      ],
      "id": "9cdb8197-2595-4ee8-808d-94989ca81c80",
      "execution_count": null,
      "outputs": []
    },
    {
      "cell_type": "code",
      "metadata": {
        "id": "ab5c61dd-fdaa-48f5-8b9e-1db0ee4e5f64"
      },
      "source": [
        "query = \"SELECT * FROM Producao_2019;\"\n",
        "df = pd.read_sql(query, conn)"
      ],
      "id": "ab5c61dd-fdaa-48f5-8b9e-1db0ee4e5f64",
      "execution_count": null,
      "outputs": []
    },
    {
      "cell_type": "code",
      "metadata": {
        "id": "47f436e2-3a59-4854-bd37-31ebff428402"
      },
      "source": [
        "# 3) Qual a média de produção mensal para o estado de São Paulo? \n",
        "\n",
        "df_SP_mensal_2019 = (df[df.UF == 'SAO PAULO']['ton_2019'])/12"
      ],
      "id": "47f436e2-3a59-4854-bd37-31ebff428402",
      "execution_count": null,
      "outputs": []
    },
    {
      "cell_type": "code",
      "metadata": {
        "id": "21635cdd-dfd8-465d-98b1-e6a799eb664e"
      },
      "source": [
        "df_SP_mensal_Maio = df[df.UF == \"SAO PAULO\"][\"ton_Maio\"]"
      ],
      "id": "21635cdd-dfd8-465d-98b1-e6a799eb664e",
      "execution_count": null,
      "outputs": []
    },
    {
      "cell_type": "code",
      "metadata": {
        "id": "27529e75-9fad-4f27-904e-429ebacf0563"
      },
      "source": [
        "df_SP_mensal_Junho = df[df.UF == \"SAO PAULO\"][\"ton_Junho\"]"
      ],
      "id": "27529e75-9fad-4f27-904e-429ebacf0563",
      "execution_count": null,
      "outputs": []
    },
    {
      "cell_type": "code",
      "metadata": {
        "id": "0abcd720-f396-4fd8-8aca-75461220af61"
      },
      "source": [
        "Media_Producao_SP = (df_SP_mensal_2019+df_SP_mensal_Maio+df_SP_mensal_Junho)/3\n",
        "Media_Producao_SP = Media_Producao_SP.apply(lambda x: \"{:_.2f}\".format(x).replace('.', ',').replace('_', '.')) "
      ],
      "id": "0abcd720-f396-4fd8-8aca-75461220af61",
      "execution_count": null,
      "outputs": []
    },
    {
      "cell_type": "code",
      "metadata": {
        "id": "955ad8f9-e535-4b40-acf9-b151ef832e24",
        "outputId": "0accc743-6e4e-4dd8-db61-faf892ff9d7a"
      },
      "source": [
        "df['Producao Mensal (ton)'] = Media_Producao_SP\n",
        "df[df.UF == 'SAO PAULO'][['UF','Producao Mensal (ton)']]"
      ],
      "id": "955ad8f9-e535-4b40-acf9-b151ef832e24",
      "execution_count": null,
      "outputs": [
        {
          "data": {
            "text/html": [
              "<div>\n",
              "<style scoped>\n",
              "    .dataframe tbody tr th:only-of-type {\n",
              "        vertical-align: middle;\n",
              "    }\n",
              "\n",
              "    .dataframe tbody tr th {\n",
              "        vertical-align: top;\n",
              "    }\n",
              "\n",
              "    .dataframe thead th {\n",
              "        text-align: right;\n",
              "    }\n",
              "</style>\n",
              "<table border=\"1\" class=\"dataframe\">\n",
              "  <thead>\n",
              "    <tr style=\"text-align: right;\">\n",
              "      <th></th>\n",
              "      <th>UF</th>\n",
              "      <th>Producao Mensal (ton)</th>\n",
              "    </tr>\n",
              "  </thead>\n",
              "  <tbody>\n",
              "    <tr>\n",
              "      <th>24</th>\n",
              "      <td>SAO PAULO</td>\n",
              "      <td>6.785.375,89</td>\n",
              "    </tr>\n",
              "  </tbody>\n",
              "</table>\n",
              "</div>"
            ],
            "text/plain": [
              "           UF Producao Mensal (ton)\n",
              "24  SAO PAULO          6.785.375,89"
            ]
          },
          "execution_count": 87,
          "metadata": {},
          "output_type": "execute_result"
        }
      ]
    }
  ]
}