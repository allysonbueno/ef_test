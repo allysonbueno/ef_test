{
  "nbformat": 4,
  "nbformat_minor": 0,
  "metadata": {
    "colab": {
      "name": "Ingestao_Producao_2019.ipynb",
      "provenance": [],
      "collapsed_sections": [],
      "authorship_tag": "ABX9TyMMcCsb/6fbpv0/bsIQhnvq",
      "include_colab_link": true
    },
    "kernelspec": {
      "name": "python3",
      "display_name": "Python 3"
    },
    "language_info": {
      "name": "python"
    }
  },
  "cells": [
    {
      "cell_type": "markdown",
      "metadata": {
        "id": "view-in-github",
        "colab_type": "text"
      },
      "source": [
        "<a href=\"https://colab.research.google.com/github/allysonbueno/ef_test/blob/main/Ingestao_Producao_2019.ipynb\" target=\"_parent\"><img src=\"https://colab.research.google.com/assets/colab-badge.svg\" alt=\"Open In Colab\"/></a>"
      ]
    },
    {
      "cell_type": "code",
      "metadata": {
        "id": "QmCbvxlIx228"
      },
      "source": [
        "import pandas as pd"
      ],
      "execution_count": null,
      "outputs": []
    },
    {
      "cell_type": "code",
      "metadata": {
        "id": "BA6OBFr_zKZt"
      },
      "source": [
        "# pip install pandera\n",
        "import pandera as pa"
      ],
      "execution_count": null,
      "outputs": []
    },
    {
      "cell_type": "code",
      "metadata": {
        "id": "Amm0J370yF9F"
      },
      "source": [
        "df = pd.read_excel('Producao_2019.xlsx', index_col = None, skiprows= 5, nrows= 27, sheet_name='area prod uf', usecols='A:G')"
      ],
      "execution_count": null,
      "outputs": []
    },
    {
      "cell_type": "code",
      "metadata": {
        "id": "vQSbaPHey55N"
      },
      "source": [
        "df.rename(columns={\"Unnamed: 0\":\"UF\",\n",
        "                   \"Unnamed: 1\":\"HA_2019\",\"Unnamed: 2\":\"HA_Maio\",\"Unnamed: 3\":\"HA_Junho\",\n",
        "                   \"Unnamed: 4\":\"ton_2019\",\"Unnamed: 5\":\"ton_Maio\",\"Unnamed: 6\":\"ton_Junho\"}\n",
        "          ,inplace=True)"
      ],
      "execution_count": null,
      "outputs": []
    },
    {
      "cell_type": "code",
      "metadata": {
        "id": "U56ZAilD_F-o"
      },
      "source": [
        "df[\"HA_2019\"] = df[\"HA_2019\"].apply(lambda x: x.replace(\" \", \"\"))\n",
        "df[\"HA_Maio\"] = df[\"HA_Maio\"].apply(lambda x: x.replace(\" \", \"\"))\n",
        "df[\"HA_Junho\"] = df[\"HA_Junho\"].apply(lambda x: x.replace(\" \", \"\"))\n",
        "df[\"ton_2019\"] = df[\"ton_2019\"].apply(lambda x: x.replace(\" \", \"\"))\n",
        "df[\"ton_Maio\"] = df[\"ton_Maio\"].apply(lambda x: x.replace(\" \", \"\"))\n",
        "df[\"ton_Junho\"] = df[\"ton_Junho\"].apply(lambda x: x.replace(\" \", \"\"))"
      ],
      "execution_count": null,
      "outputs": []
    },
    {
      "cell_type": "code",
      "metadata": {
        "id": "-waIfos01ri2"
      },
      "source": [
        "schema = pa.DataFrameSchema(\n",
        "    columns = {\n",
        "        \"UF\": pa.Column(pa.String),\"HA_2019\": pa.Column(pa.Float),\"HA_Maio\": pa.Column(pa.Float),\"HA_Junho\": pa.Column(pa.Float),\"ton_2019\": pa.Column(pa.Float),\"ton_Maio\": pa.Column(pa.Float),\"ton_Junho\": pa.Column(pa.Float)})"
      ],
      "execution_count": 21,
      "outputs": []
    },
    {
      "cell_type": "code",
      "metadata": {
        "id": "Li0ScMjy-vfS"
      },
      "source": [
        "### TO SQL\n",
        "# pip install pyodbc\n",
        "import pyodbc"
      ],
      "execution_count": null,
      "outputs": []
    },
    {
      "cell_type": "code",
      "metadata": {
        "id": "wO17xTzN8GRv"
      },
      "source": [
        "driver = 'SQL Server'\n",
        "server = 'LOCALDB#A39D6D0C'\n",
        "db = 'DesafioEF'\n",
        "tcon = 'yes'\n",
        "uname = 'sa'\n",
        "pword = 'xxxxxxxxxx'"
      ],
      "execution_count": null,
      "outputs": []
    },
    {
      "cell_type": "code",
      "metadata": {
        "id": "eHD7Oa2BK5al"
      },
      "source": [
        "dbconn = pyodbc.connect(driver='{SQL Server Native Client 11.0}', host=server, database=db,\n",
        "                      trusted_connection=tcon, user=uname, password=pword)"
      ],
      "execution_count": null,
      "outputs": []
    },
    {
      "cell_type": "code",
      "metadata": {
        "id": "WwITSbCnK5eA"
      },
      "source": [
        "cursor = dbconn.cursor()"
      ],
      "execution_count": null,
      "outputs": []
    },
    {
      "cell_type": "code",
      "metadata": {
        "id": "q959OsBFK5hU"
      },
      "source": [
        "cursor.execute(\n",
        "\"CREATE TABLE [dbo].[Producao2019](\"\n",
        "\"\t [UF] [varchar](1000) NULL,\"\n",
        "\"    [HA_2019] [int] NOT NULL,\"\n",
        "\"    [HA_Maio] [int] NOT NULL,\"\n",
        "\"    [HA_Junho] [int] NOT NULL,\"\n",
        "\"    [ton_2019] [int] NOT NULL,\"\n",
        "\"    [ton_Maio] [int] NOT NULL,\"\n",
        "\"    [ton_Junho] [int] NOT NULL\")"
      ],
      "execution_count": null,
      "outputs": []
    },
    {
      "cell_type": "code",
      "metadata": {
        "id": "uXbE9qXM0nL1"
      },
      "source": [
        "for index, row in df.iterrows():\n",
        "     cursor.execute(\"INSERT INTO DesafioEF.Producao2019 (UF,HA_2019,HA_Maio,HA_Junho,ton_2019,ton_Maio,ton_Junho) values(?,?,?,?,?,?,?)\", row.UF,row.HA_2019,row.HA_Maio,row.HA_Junho,row.ton_2019,row.ton_Maio,row.ton_Junho)\n",
        "dbconn.commit()\n",
        "cursor.close()"
      ],
      "execution_count": null,
      "outputs": []
    },
    {
      "cell_type": "code",
      "metadata": {
        "id": "M6e-Enk8K5jy"
      },
      "source": [
        "dbconn.close()"
      ],
      "execution_count": null,
      "outputs": []
    },
    {
      "cell_type": "markdown",
      "metadata": {
        "id": "8OjJdh5H71__"
      },
      "source": [
        ""
      ]
    }
  ]
}