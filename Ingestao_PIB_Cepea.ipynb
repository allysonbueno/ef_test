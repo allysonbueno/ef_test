{
  "nbformat": 4,
  "nbformat_minor": 0,
  "metadata": {
    "colab": {
      "name": "Ingestao_PIB_Cepea.ipynb",
      "provenance": [],
      "collapsed_sections": [],
      "authorship_tag": "ABX9TyP9DMBKS+hDkRmCKqLzmusl",
      "include_colab_link": true
    },
    "kernelspec": {
      "name": "python3",
      "display_name": "Python 3"
    },
    "language_info": {
      "name": "python"
    }
  },
  "cells": [
    {
      "cell_type": "markdown",
      "metadata": {
        "id": "view-in-github",
        "colab_type": "text"
      },
      "source": [
        "<a href=\"https://colab.research.google.com/github/allysonbueno/ef_test/blob/main/Ingestao_PIB_Cepea.ipynb\" target=\"_parent\"><img src=\"https://colab.research.google.com/assets/colab-badge.svg\" alt=\"Open In Colab\"/></a>"
      ]
    },
    {
      "cell_type": "code",
      "metadata": {
        "id": "QmCbvxlIx228"
      },
      "source": [
        "import pandas as pd"
      ],
      "execution_count": 1,
      "outputs": []
    },
    {
      "cell_type": "code",
      "metadata": {
        "id": "BA6OBFr_zKZt"
      },
      "source": [
        "# pip install pandera\n",
        "import pandera as pa"
      ],
      "execution_count": 2,
      "outputs": []
    },
    {
      "cell_type": "code",
      "metadata": {
        "id": "9G6wa-AkCeL9"
      },
      "source": [
        "pd.options.display.float_format = '{:.2f}'.format"
      ],
      "execution_count": 19,
      "outputs": []
    },
    {
      "cell_type": "code",
      "metadata": {
        "id": "Amm0J370yF9F"
      },
      "source": [
        "# PIB-renda do Agronegócio Brasileiro, 1996 a 2019, em R$ Milhões de dez/2019\n",
        "df_pib_renda = pd.read_excel('PIB_Cepea.xlsx', index_col = None, skiprows= 7, nrows= 25, sheet_name='PIB', usecols='A:R')"
      ],
      "execution_count": 20,
      "outputs": []
    },
    {
      "cell_type": "code",
      "metadata": {
        "id": "wQem9x7l5Gtz"
      },
      "source": [
        "df_pib_renda.columns=list(range(0,len(df_pib_renda.columns)))"
      ],
      "execution_count": 21,
      "outputs": []
    },
    {
      "cell_type": "code",
      "metadata": {
        "id": "Ax2kSytn6SL0"
      },
      "source": [
        "df_pib_renda.drop(columns=[6,12],inplace=True)"
      ],
      "execution_count": 22,
      "outputs": []
    },
    {
      "cell_type": "code",
      "metadata": {
        "id": "g45bfDzStjnz"
      },
      "source": [
        "df_pib_renda.rename(columns={0:\"ANO\",1:\"Agronegocio_Insumos\",2:\"Agronegocio_Agropecuaria\",3:\"Agronegocio_Industria\",4:\"Agronegocio_Serviços\",5:\"Total_Agronegócio\",\n",
        "           7:\"Agricola_Insumos\",8:\"Agricola_Agropecuária\",9:\"Agricola_Indústria\",10:\"Agricola_Serviços\",11:\"Total_Ramo_Agricola\",\t\n",
        "           13:\"Pecuario_Insumos\",14:\"Pecuario_Agropecuária\",15:\"Pecuario_Indústria\",16:\"Pecuario_Serviços\",17:\"Total_Ramo_Pecuario\"},inplace=True)"
      ],
      "execution_count": 23,
      "outputs": []
    },
    {
      "cell_type": "code",
      "metadata": {
        "id": "O9diXjPT3pm1"
      },
      "source": [
        "df_pib_renda['ANO'] = df_pib_renda['ANO'].astype(str).apply(lambda x: x.replace('.0',''))"
      ],
      "execution_count": 24,
      "outputs": []
    },
    {
      "cell_type": "code",
      "metadata": {
        "colab": {
          "base_uri": "https://localhost:8080/",
          "height": 130
        },
        "id": "vsaInOXKrQ3K",
        "outputId": "2812b222-e5ab-411a-e864-72790ece85d6"
      },
      "source": [
        "df_pib_renda.head(2)"
      ],
      "execution_count": 25,
      "outputs": [
        {
          "output_type": "execute_result",
          "data": {
            "text/html": [
              "<div>\n",
              "<style scoped>\n",
              "    .dataframe tbody tr th:only-of-type {\n",
              "        vertical-align: middle;\n",
              "    }\n",
              "\n",
              "    .dataframe tbody tr th {\n",
              "        vertical-align: top;\n",
              "    }\n",
              "\n",
              "    .dataframe thead th {\n",
              "        text-align: right;\n",
              "    }\n",
              "</style>\n",
              "<table border=\"1\" class=\"dataframe\">\n",
              "  <thead>\n",
              "    <tr style=\"text-align: right;\">\n",
              "      <th></th>\n",
              "      <th>ANO</th>\n",
              "      <th>Agronegocio_Insumos</th>\n",
              "      <th>Agronegocio_Agropecuaria</th>\n",
              "      <th>Agronegocio_Industria</th>\n",
              "      <th>Agronegocio_Serviços</th>\n",
              "      <th>Total_Agronegócio</th>\n",
              "      <th>Agricola_Insumos</th>\n",
              "      <th>Agricola_Agropecuária</th>\n",
              "      <th>Agricola_Indústria</th>\n",
              "      <th>Agricola_Serviços</th>\n",
              "      <th>Total_Ramo_Agricola</th>\n",
              "      <th>Pecuario_Insumos</th>\n",
              "      <th>Pecuario_Agropecuária</th>\n",
              "      <th>Pecuario_Indústria</th>\n",
              "      <th>Pecuario_Serviços</th>\n",
              "      <th>Total_Ramo_Pecuario</th>\n",
              "    </tr>\n",
              "  </thead>\n",
              "  <tbody>\n",
              "    <tr>\n",
              "      <th>0</th>\n",
              "      <td>1996</td>\n",
              "      <td>31597.66</td>\n",
              "      <td>200211.78</td>\n",
              "      <td>514755.88</td>\n",
              "      <td>646536.98</td>\n",
              "      <td>1393102.31</td>\n",
              "      <td>22563.19</td>\n",
              "      <td>156660.68</td>\n",
              "      <td>412869.93</td>\n",
              "      <td>453820.18</td>\n",
              "      <td>1045913.98</td>\n",
              "      <td>9034.47</td>\n",
              "      <td>43551.10</td>\n",
              "      <td>101885.95</td>\n",
              "      <td>192716.80</td>\n",
              "      <td>347188.33</td>\n",
              "    </tr>\n",
              "    <tr>\n",
              "      <th>1</th>\n",
              "      <td>1997</td>\n",
              "      <td>32826.00</td>\n",
              "      <td>199911.30</td>\n",
              "      <td>482894.84</td>\n",
              "      <td>604714.56</td>\n",
              "      <td>1320346.70</td>\n",
              "      <td>24380.35</td>\n",
              "      <td>155492.92</td>\n",
              "      <td>387664.45</td>\n",
              "      <td>422442.89</td>\n",
              "      <td>989980.62</td>\n",
              "      <td>8445.64</td>\n",
              "      <td>44418.38</td>\n",
              "      <td>95230.39</td>\n",
              "      <td>182271.67</td>\n",
              "      <td>330366.08</td>\n",
              "    </tr>\n",
              "  </tbody>\n",
              "</table>\n",
              "</div>"
            ],
            "text/plain": [
              "    ANO  Agronegocio_Insumos  ...  Pecuario_Serviços  Total_Ramo_Pecuario\n",
              "0  1996             31597.66  ...          192716.80            347188.33\n",
              "1  1997             32826.00  ...          182271.67            330366.08\n",
              "\n",
              "[2 rows x 16 columns]"
            ]
          },
          "metadata": {},
          "execution_count": 25
        }
      ]
    },
    {
      "cell_type": "code",
      "metadata": {
        "id": "qbjPAUCTDo9P"
      },
      "source": [
        "#  PIB do Agronegócio Brasileiro, 1996 a 2019, em R$ Milhões correntes\n",
        "df_pib = pd.read_excel('PIB_Cepea.xlsx', index_col = None, skiprows= 7, nrows= 36, sheet_name='PIB', usecols='A:AJ')"
      ],
      "execution_count": 26,
      "outputs": []
    },
    {
      "cell_type": "code",
      "metadata": {
        "id": "Biom0Mj6GpYq"
      },
      "source": [
        "df_pib.columns=list(range(0,len(df_pib.columns)))"
      ],
      "execution_count": 27,
      "outputs": []
    },
    {
      "cell_type": "code",
      "metadata": {
        "id": "zYQ54PQfGpYs"
      },
      "source": [
        "coluna = 1\n",
        "while coluna <= 18:\n",
        "  df_pib.drop(columns=[coluna],inplace=True)\n",
        "  coluna += 1\n",
        "df_pib.drop(columns=[24,30],inplace=True)"
      ],
      "execution_count": 28,
      "outputs": []
    },
    {
      "cell_type": "code",
      "metadata": {
        "id": "0fwhfh95GpYs"
      },
      "source": [
        "df_pib.rename(columns={0:\"ANO\",19:\"Agronegocio_Insumos\",20:\"Agronegocio_Agropecuaria\",21:\"Agronegocio_Industria\",22:\"Agronegocio_Serviços\",23:\"Total_Agronegócio\",\n",
        "           25:\"Agricola_Insumos\",26:\"Agricola_Agropecuária\",27:\"Agricola_Indústria\",28:\"Agricola_Serviços\",29:\"Total_Ramo_Agricola\",\t\n",
        "           31:\"Pecuario_Insumos\",32:\"Pecuario_Agropecuária\",33:\"Pecuario_Indústria\",34:\"Pecuario_Serviços\",35:\"Total_Ramo_Pecuario\"},inplace=True)                               "
      ],
      "execution_count": 29,
      "outputs": []
    },
    {
      "cell_type": "code",
      "metadata": {
        "colab": {
          "base_uri": "https://localhost:8080/",
          "height": 130
        },
        "id": "yBIKTOGiGpYt",
        "outputId": "7755769a-a12b-4d10-cff5-0cbfe180f7fd"
      },
      "source": [
        "df_pib.head(2)"
      ],
      "execution_count": 30,
      "outputs": [
        {
          "output_type": "execute_result",
          "data": {
            "text/html": [
              "<div>\n",
              "<style scoped>\n",
              "    .dataframe tbody tr th:only-of-type {\n",
              "        vertical-align: middle;\n",
              "    }\n",
              "\n",
              "    .dataframe tbody tr th {\n",
              "        vertical-align: top;\n",
              "    }\n",
              "\n",
              "    .dataframe thead th {\n",
              "        text-align: right;\n",
              "    }\n",
              "</style>\n",
              "<table border=\"1\" class=\"dataframe\">\n",
              "  <thead>\n",
              "    <tr style=\"text-align: right;\">\n",
              "      <th></th>\n",
              "      <th>ANO</th>\n",
              "      <th>Agronegocio_Insumos</th>\n",
              "      <th>Agronegocio_Agropecuaria</th>\n",
              "      <th>Agronegocio_Industria</th>\n",
              "      <th>Agronegocio_Serviços</th>\n",
              "      <th>Total_Agronegócio</th>\n",
              "      <th>Agricola_Insumos</th>\n",
              "      <th>Agricola_Agropecuária</th>\n",
              "      <th>Agricola_Indústria</th>\n",
              "      <th>Agricola_Serviços</th>\n",
              "      <th>Total_Ramo_Agricola</th>\n",
              "      <th>Pecuario_Insumos</th>\n",
              "      <th>Pecuario_Agropecuária</th>\n",
              "      <th>Pecuario_Indústria</th>\n",
              "      <th>Pecuario_Serviços</th>\n",
              "      <th>Total_Ramo_Pecuario</th>\n",
              "    </tr>\n",
              "  </thead>\n",
              "  <tbody>\n",
              "    <tr>\n",
              "      <th>0</th>\n",
              "      <td>1996</td>\n",
              "      <td>6177.21</td>\n",
              "      <td>39140.56</td>\n",
              "      <td>100632.61</td>\n",
              "      <td>126395.26</td>\n",
              "      <td>272345.65</td>\n",
              "      <td>4411.01</td>\n",
              "      <td>30626.50</td>\n",
              "      <td>80714.34</td>\n",
              "      <td>88719.94</td>\n",
              "      <td>204471.79</td>\n",
              "      <td>1766.20</td>\n",
              "      <td>8514.06</td>\n",
              "      <td>19918.28</td>\n",
              "      <td>37675.32</td>\n",
              "      <td>67873.86</td>\n",
              "    </tr>\n",
              "    <tr>\n",
              "      <th>1</th>\n",
              "      <td>1997</td>\n",
              "      <td>6913.34</td>\n",
              "      <td>42102.46</td>\n",
              "      <td>101700.41</td>\n",
              "      <td>127356.34</td>\n",
              "      <td>278072.56</td>\n",
              "      <td>5134.64</td>\n",
              "      <td>32747.70</td>\n",
              "      <td>81644.35</td>\n",
              "      <td>88968.89</td>\n",
              "      <td>208495.57</td>\n",
              "      <td>1778.70</td>\n",
              "      <td>9354.76</td>\n",
              "      <td>20056.06</td>\n",
              "      <td>38387.46</td>\n",
              "      <td>69576.98</td>\n",
              "    </tr>\n",
              "  </tbody>\n",
              "</table>\n",
              "</div>"
            ],
            "text/plain": [
              "    ANO  Agronegocio_Insumos  ...  Pecuario_Serviços  Total_Ramo_Pecuario\n",
              "0  1996              6177.21  ...           37675.32             67873.86\n",
              "1  1997              6913.34  ...           38387.46             69576.98\n",
              "\n",
              "[2 rows x 16 columns]"
            ]
          },
          "metadata": {},
          "execution_count": 30
        }
      ]
    },
    {
      "cell_type": "code",
      "metadata": {
        "colab": {
          "base_uri": "https://localhost:8080/"
        },
        "id": "mCyfM-t04O7u",
        "outputId": "71bd7036-3ef7-4430-cd35-93846f99288d"
      },
      "source": [
        "df_pib.dtypes"
      ],
      "execution_count": 31,
      "outputs": [
        {
          "output_type": "execute_result",
          "data": {
            "text/plain": [
              "ANO                          object\n",
              "Agronegocio_Insumos         float64\n",
              "Agronegocio_Agropecuaria    float64\n",
              "Agronegocio_Industria       float64\n",
              "Agronegocio_Serviços        float64\n",
              "Total_Agronegócio           float64\n",
              "Agricola_Insumos            float64\n",
              "Agricola_Agropecuária       float64\n",
              "Agricola_Indústria          float64\n",
              "Agricola_Serviços           float64\n",
              "Total_Ramo_Agricola         float64\n",
              "Pecuario_Insumos            float64\n",
              "Pecuario_Agropecuária       float64\n",
              "Pecuario_Indústria          float64\n",
              "Pecuario_Serviços           float64\n",
              "Total_Ramo_Pecuario         float64\n",
              "dtype: object"
            ]
          },
          "metadata": {},
          "execution_count": 31
        }
      ]
    },
    {
      "cell_type": "code",
      "metadata": {
        "id": "Li0ScMjy-vfS"
      },
      "source": [
        "### TO SQL\n",
        "import pyodbc"
      ],
      "execution_count": null,
      "outputs": []
    },
    {
      "cell_type": "code",
      "metadata": {
        "id": "wO17xTzN8GRv"
      },
      "source": [
        "driver = 'SQL Server'\n",
        "server = 'LOCALDB#A39D6D0C'\n",
        "db = 'DesafioEF'\n",
        "tcon = 'yes'\n",
        "uname = 'sa'\n",
        "pword = 'xxxxxxxxxx'"
      ],
      "execution_count": null,
      "outputs": []
    },
    {
      "cell_type": "code",
      "metadata": {
        "id": "eHD7Oa2BK5al"
      },
      "source": [
        "dbconn = pyodbc.connect(driver='{SQL Server Native Client 11.0}', host=server, database=db,\n",
        "                      trusted_connection=tcon, user=uname, password=pword)"
      ],
      "execution_count": null,
      "outputs": []
    },
    {
      "cell_type": "code",
      "metadata": {
        "id": "WwITSbCnK5eA"
      },
      "source": [
        "cursor = dbconn.cursor()"
      ],
      "execution_count": null,
      "outputs": []
    },
    {
      "cell_type": "code",
      "metadata": {
        "id": "Lf0km5IW5voe"
      },
      "source": [
        "cursor.execute(\n",
        "\"CREATE TABLE [dbo].[PIB_Cepea_PIB_Renda](\"\n",
        "\"\t[ANO]\t\t\t\t\t\t            [int] NOT NULL,\"\n",
        "\"\t[Agronegocio_Insumos]       [float] NOT NULL,\"\n",
        "\"\t[Agronegocio_Agropecuaria]  [float] NOT NULL,\"\n",
        "\"\t[Agronegocio_Industria]     [float] NOT NULL,\"\n",
        "\"\t[Agronegocio_Serviços]      [float] NOT NULL,\"\n",
        "\"\t[Total_Agronegócio]         [float] NOT NULL,\"\n",
        "\"\t[Agricola_Insumos]          [float] NOT NULL,\"\n",
        "\"\t[Agricola_Agropecuária]     [float] NOT NULL,\"\n",
        "\"\t[Agricola_Indústria]        [float] NOT NULL,\"\n",
        "\"\t[Agricola_Serviços]         [float] NOT NULL,\"\n",
        "\"\t[Total_Ramo_Agricola]       [float] NOT NULL,\"\n",
        "\"\t[Pecuario_Insumos]          [float] NOT NULL,\"\n",
        "\"\t[Pecuario_Agropecuária]     [float] NOT NULL,\"\n",
        "\"\t[Pecuario_Indústria]        [float] NOT NULL,\"\n",
        "\"\t[Pecuario_Serviços]         [float] NOT NULL,\"\n",
        "\"\t[Total_Ramo_Pecuario        [float] NOT NULL\") "
      ],
      "execution_count": null,
      "outputs": []
    },
    {
      "cell_type": "code",
      "metadata": {
        "id": "q959OsBFK5hU"
      },
      "source": [
        "cursor.execute(\n",
        "\"CREATE TABLE [dbo].[PIB_Cepea_PIB](\"\n",
        "\"\t[ANO]                         \t[int] NOT NULL,\"\n",
        "\"\t[(A) Agronegócio Insumos]       [float] NOT NULL,\"\n",
        "\"\t[(B) Agronegócio Agropecuária]  [float] NOT NULL,\"\n",
        "\"\t[(C) Agronegócio Indústria]     [float] NOT NULL,\"\n",
        "\"\t[(D) Agronegócio Serviços]      [float] NOT NULL,\"\n",
        "\"\t[Agronegócio Total (A+B+C+D)] \t[float] NOT NULL,\"\n",
        "\"\t[(A) Agrícola Insumos]          [float] NOT NULL,\"\n",
        "\"\t[(B) Agrícola Agropecuária]     [float] NOT NULL,\"\n",
        "\"\t[(C) Agrícola Indústria]        [float] NOT NULL,\"\n",
        "\"\t[(D) Agrícola Serviços]         [float] NOT NULL,\"\n",
        "\"\t[Ramo Agrícola (A+B+C+D)]     \t[float] NOT NULL,\"\n",
        "\"\t[(A) Pecuário Insumos]          [float] NOT NULL,\"\n",
        "\"\t[(B) Pecuário Agropecuária]     [float] NOT NULL,\"\n",
        "\"\t[(C) Pecuário Indústria]        [float] NOT NULL,\"\n",
        "\"\t[(D) Pecuário Serviços]         [float] NOT NULL,\"\n",
        "\"\t[Ramo Pecuário (A+B+C+D)]     \t[float] NOT NULL\")"
      ],
      "execution_count": null,
      "outputs": []
    },
    {
      "cell_type": "code",
      "metadata": {
        "id": "IPijikly0dtm"
      },
      "source": [
        "for index, row in df_pib_renda.iterrows():\n",
        "     cursor.execute(\"INSERT INTO DesafioEF.PIB_Cepea_PIB_Renda (ANO,Agronegocio_Insumos,Agronegocio_Agropecuaria,Agronegocio_Industria,Agronegocio_Serviços,Total_Agronegócio,\"\n",
        "                                                                \"   Agricola_Insumos,Agricola_Agropecuária,Agricola_Indústria,Agricola_Serviços,Total_Ramo_Agricola,\"\n",
        "                                                                \"   Pecuario_Insumos,Pecuario_Agropecuária,Pecuario_Indústria,Pecuario_Serviços,Total_Ramo_Pecuario) values(?,?,?)\", \n",
        "                    row.ANO,row.Agronegocio_Insumos,row.Agronegocio_Agropecuaria,row.Agronegocio_Industria,row.Agronegocio_Serviços,row.Total_Agronegócio,\n",
        "                            row.Agricola_Insumos,row.Agricola_Agropecuária,row.Agricola_Indústria,row.Agricola_Serviços,row.Total_Ramo_Agricola,\n",
        "                            row.Pecuario_Insumos,row.Pecuario_Agropecuária,row.Pecuario_Indústria,row.Pecuario_Serviços,row.Total_Ramo_Pecuario)\n",
        "dbconn.commit()"
      ],
      "execution_count": null,
      "outputs": []
    },
    {
      "cell_type": "code",
      "metadata": {
        "id": "E-pf0lvf9YJX"
      },
      "source": [
        "for index, row in df_pib.iterrows():\n",
        "     cursor.execute(\"INSERT INTO DesafioEF.PIB_Cepea_PIB (ANO,Agronegocio_Insumos,Agronegocio_Agropecuaria,Agronegocio_Industria,Agronegocio_Serviços,Total_Agronegócio,\"\n",
        "                                                          \"   Agricola_Insumos,Agricola_Agropecuária,Agricola_Indústria,Agricola_Serviços,Total_Ramo_Agricola,\"\n",
        "                                                          \"   Pecuario_Insumos,Pecuario_Agropecuária,Pecuario_Indústria,Pecuario_Serviços,Total_Ramo_Pecuario) values(?,?,?)\", \n",
        "                    row.ANO,row.Agronegocio_Insumos,row.Agronegocio_Agropecuaria,row.Agronegocio_Industria,row.Agronegocio_Serviços,row.Total_Agronegócio,\n",
        "                            row.Agricola_Insumos,row.Agricola_Agropecuária,row.Agricola_Indústria,row.Agricola_Serviços,row.Total_Ramo_Agricola,\n",
        "                            row.Pecuario_Insumos,row.Pecuario_Agropecuária,row.Pecuario_Indústria,row.Pecuario_Serviços,row.Total_Ramo_Pecuario)\n",
        "dbconn.commit()"
      ],
      "execution_count": null,
      "outputs": []
    },
    {
      "cell_type": "code",
      "metadata": {
        "id": "M6e-Enk8K5jy"
      },
      "source": [
        "cursor.close()\n",
        "dbconn.close()"
      ],
      "execution_count": null,
      "outputs": []
    }
  ]
}