{
  "nbformat": 4,
  "nbformat_minor": 5,
  "metadata": {
    "kernelspec": {
      "display_name": "Python 3",
      "language": "python",
      "name": "python3"
    },
    "language_info": {
      "codemirror_mode": {
        "name": "ipython",
        "version": 3
      },
      "file_extension": ".py",
      "mimetype": "text/x-python",
      "name": "python",
      "nbconvert_exporter": "python",
      "pygments_lexer": "ipython3",
      "version": "3.8.8"
    },
    "colab": {
      "name": "Questão-2-Desafio.ipynb",
      "provenance": [],
      "collapsed_sections": [],
      "include_colab_link": true
    }
  },
  "cells": [
    {
      "cell_type": "markdown",
      "metadata": {
        "id": "view-in-github",
        "colab_type": "text"
      },
      "source": [
        "<a href=\"https://colab.research.google.com/github/allysonbueno/ef_test/blob/main/Quest%C3%A3o_2_Desafio.ipynb\" target=\"_parent\"><img src=\"https://colab.research.google.com/assets/colab-badge.svg\" alt=\"Open In Colab\"/></a>"
      ]
    },
    {
      "cell_type": "code",
      "metadata": {
        "id": "d8abcaee-5ba9-4de5-a348-98141359fb13"
      },
      "source": [
        "import pandas as pd\n",
        "import pyodbc"
      ],
      "id": "d8abcaee-5ba9-4de5-a348-98141359fb13",
      "execution_count": null,
      "outputs": []
    },
    {
      "cell_type": "code",
      "metadata": {
        "id": "9cdb8197-2595-4ee8-808d-94989ca81c80"
      },
      "source": [
        "server = 'localhost' \n",
        "database = 'DesafioEF' \n",
        "username = 'datalake' \n",
        "password = 'xxxxxxxxx'  \n",
        "\n",
        "conn = pyodbc.connect('DRIVER={SQL Server};SERVER='+server+';DATABASE='+database+';UID='+username+';PWD='+ password)\n",
        "cursor = conn.cursor()"
      ],
      "id": "9cdb8197-2595-4ee8-808d-94989ca81c80",
      "execution_count": null,
      "outputs": []
    },
    {
      "cell_type": "code",
      "metadata": {
        "id": "ab5c61dd-fdaa-48f5-8b9e-1db0ee4e5f64"
      },
      "source": [
        "query = \"SELECT * FROM Producao_2019;\"\n",
        "df = pd.read_sql(query, conn)"
      ],
      "id": "ab5c61dd-fdaa-48f5-8b9e-1db0ee4e5f64",
      "execution_count": null,
      "outputs": []
    },
    {
      "cell_type": "code",
      "metadata": {
        "id": "e00cabb5-d6e0-4aa5-aca8-2e612da8ae7b"
      },
      "source": [
        "\n",
        "\n",
        "\n",
        "# 2) Qual estado possui maior área produtiva? \n",
        "\n",
        "df_maior_produtor = df.groupby('UF')['HA_2019'].max().reset_index().sort_values(['HA_2019'], ascending=False).head(1)\n",
        "df_maior_produtor.rename({'HA_2019': 'Area_Produzida_hectares'}, axis=1, inplace=True)"
      ],
      "id": "e00cabb5-d6e0-4aa5-aca8-2e612da8ae7b",
      "execution_count": null,
      "outputs": []
    },
    {
      "cell_type": "code",
      "metadata": {
        "id": "23f586ac-1cc6-40d9-ae56-a371df97a0ca"
      },
      "source": [
        "df_maior_produtor['Area_Produzida_km²'] = df_maior_produtor['Area_Produzida_hectares'].astype(float) / 100"
      ],
      "id": "23f586ac-1cc6-40d9-ae56-a371df97a0ca",
      "execution_count": null,
      "outputs": []
    },
    {
      "cell_type": "code",
      "metadata": {
        "id": "d7c04c36-f82a-4ec6-b8fd-59c6893bee4e"
      },
      "source": [
        "df_maior_produtor['Area_Produzida_hectares'] = df_maior_produtor['Area_Produzida_hectares'].apply(lambda x: \"{:_.0f}\".format(x).replace('.', ',').replace('_', '.'))"
      ],
      "id": "d7c04c36-f82a-4ec6-b8fd-59c6893bee4e",
      "execution_count": null,
      "outputs": []
    },
    {
      "cell_type": "code",
      "metadata": {
        "id": "5c452cda-b443-49df-ba37-4b54d0683d78"
      },
      "source": [
        "df_maior_produtor['Area_Produzida_km²'] = df_maior_produtor['Area_Produzida_km²'].apply(lambda x: \"{:_.2f}\".format(x).replace('.', ',').replace('_', '.'))"
      ],
      "id": "5c452cda-b443-49df-ba37-4b54d0683d78",
      "execution_count": null,
      "outputs": []
    },
    {
      "cell_type": "code",
      "metadata": {
        "id": "c44db217-fb0c-422e-8d51-406f736389ed",
        "outputId": "1ed0ce22-fadf-4be2-9a8f-7a081e601be2"
      },
      "source": [
        "###### ###### ######  RESPOSTA: ###### ###### ###### \n",
        "\n",
        "df_maior_produtor"
      ],
      "id": "c44db217-fb0c-422e-8d51-406f736389ed",
      "execution_count": null,
      "outputs": [
        {
          "data": {
            "text/html": [
              "<div>\n",
              "<style scoped>\n",
              "    .dataframe tbody tr th:only-of-type {\n",
              "        vertical-align: middle;\n",
              "    }\n",
              "\n",
              "    .dataframe tbody tr th {\n",
              "        vertical-align: top;\n",
              "    }\n",
              "\n",
              "    .dataframe thead th {\n",
              "        text-align: right;\n",
              "    }\n",
              "</style>\n",
              "<table border=\"1\" class=\"dataframe\">\n",
              "  <thead>\n",
              "    <tr style=\"text-align: right;\">\n",
              "      <th></th>\n",
              "      <th>UF</th>\n",
              "      <th>Area_Produzida_hectares</th>\n",
              "      <th>Area_Produzida_km²</th>\n",
              "    </tr>\n",
              "  </thead>\n",
              "  <tbody>\n",
              "    <tr>\n",
              "      <th>10</th>\n",
              "      <td>MATO GROSSO</td>\n",
              "      <td>16.273.085</td>\n",
              "      <td>162.730,85</td>\n",
              "    </tr>\n",
              "  </tbody>\n",
              "</table>\n",
              "</div>"
            ],
            "text/plain": [
              "             UF Area_Produzida_hectares Area_Produzida_km²\n",
              "10  MATO GROSSO              16.273.085         162.730,85"
            ]
          },
          "execution_count": 148,
          "metadata": {},
          "output_type": "execute_result"
        }
      ]
    }
  ]
}