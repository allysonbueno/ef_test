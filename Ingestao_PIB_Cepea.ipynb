{
  "nbformat": 4,
  "nbformat_minor": 0,
  "metadata": {
    "colab": {
      "name": "Ingestao_PIB_Cepea.ipynb",
      "provenance": [],
      "collapsed_sections": [],
      "authorship_tag": "ABX9TyPkDEN+JY5rfOLqYLpcR+7Y",
      "include_colab_link": true
    },
    "kernelspec": {
      "name": "python3",
      "display_name": "Python 3"
    },
    "language_info": {
      "name": "python"
    }
  },
  "cells": [
    {
      "cell_type": "markdown",
      "metadata": {
        "id": "view-in-github",
        "colab_type": "text"
      },
      "source": [
        "<a href=\"https://colab.research.google.com/github/allysonbueno/ef_test/blob/main/Ingestao_PIB_Cepea.ipynb\" target=\"_parent\"><img src=\"https://colab.research.google.com/assets/colab-badge.svg\" alt=\"Open In Colab\"/></a>"
      ]
    },
    {
      "cell_type": "code",
      "metadata": {
        "id": "QmCbvxlIx228"
      },
      "source": [
        "import pandas as pd"
      ],
      "execution_count": 1,
      "outputs": []
    },
    {
      "cell_type": "code",
      "metadata": {
        "id": "BA6OBFr_zKZt"
      },
      "source": [
        "# pip install pandera\n",
        "import pandera as pa"
      ],
      "execution_count": 2,
      "outputs": []
    },
    {
      "cell_type": "code",
      "metadata": {
        "id": "9G6wa-AkCeL9"
      },
      "source": [
        "pd.options.display.float_format = '{:.2f}'.format"
      ],
      "execution_count": 3,
      "outputs": []
    },
    {
      "cell_type": "code",
      "metadata": {
        "id": "Amm0J370yF9F"
      },
      "source": [
        "# PIB-renda do Agronegócio Brasileiro, 1996 a 2019, em R$ Milhões de dez/2019\n",
        "df_pib_renda = pd.read_excel('PIB_Cepea.xlsx', index_col = None, skiprows= 7, nrows= 24, sheet_name='PIB', usecols='A:R')"
      ],
      "execution_count": 4,
      "outputs": []
    },
    {
      "cell_type": "code",
      "metadata": {
        "id": "wQem9x7l5Gtz"
      },
      "source": [
        "df_pib_renda.columns=list(range(0,len(df_pib_renda.columns)))"
      ],
      "execution_count": 5,
      "outputs": []
    },
    {
      "cell_type": "code",
      "metadata": {
        "id": "xWO-tnW8u8g4"
      },
      "source": [
        ""
      ],
      "execution_count": 5,
      "outputs": []
    },
    {
      "cell_type": "code",
      "metadata": {
        "id": "Ax2kSytn6SL0"
      },
      "source": [
        "df_pib_renda.drop(columns=[6,12],inplace=True)"
      ],
      "execution_count": 6,
      "outputs": []
    },
    {
      "cell_type": "code",
      "metadata": {
        "colab": {
          "base_uri": "https://localhost:8080/",
          "height": 138
        },
        "id": "DGIlKtcYqWUf",
        "outputId": "a5a18c1a-4716-4061-8094-857fa15bfd7c"
      },
      "source": [
        "df_pib_renda.head(3)"
      ],
      "execution_count": 7,
      "outputs": [
        {
          "output_type": "execute_result",
          "data": {
            "text/html": [
              "<div>\n",
              "<style scoped>\n",
              "    .dataframe tbody tr th:only-of-type {\n",
              "        vertical-align: middle;\n",
              "    }\n",
              "\n",
              "    .dataframe tbody tr th {\n",
              "        vertical-align: top;\n",
              "    }\n",
              "\n",
              "    .dataframe thead th {\n",
              "        text-align: right;\n",
              "    }\n",
              "</style>\n",
              "<table border=\"1\" class=\"dataframe\">\n",
              "  <thead>\n",
              "    <tr style=\"text-align: right;\">\n",
              "      <th></th>\n",
              "      <th>0</th>\n",
              "      <th>1</th>\n",
              "      <th>2</th>\n",
              "      <th>3</th>\n",
              "      <th>4</th>\n",
              "      <th>5</th>\n",
              "      <th>7</th>\n",
              "      <th>8</th>\n",
              "      <th>9</th>\n",
              "      <th>10</th>\n",
              "      <th>11</th>\n",
              "      <th>13</th>\n",
              "      <th>14</th>\n",
              "      <th>15</th>\n",
              "      <th>16</th>\n",
              "      <th>17</th>\n",
              "    </tr>\n",
              "  </thead>\n",
              "  <tbody>\n",
              "    <tr>\n",
              "      <th>0</th>\n",
              "      <td>1996</td>\n",
              "      <td>31597.66</td>\n",
              "      <td>200211.78</td>\n",
              "      <td>514755.88</td>\n",
              "      <td>646536.98</td>\n",
              "      <td>1393102.31</td>\n",
              "      <td>22563.19</td>\n",
              "      <td>156660.68</td>\n",
              "      <td>412869.93</td>\n",
              "      <td>453820.18</td>\n",
              "      <td>1045913.98</td>\n",
              "      <td>9034.47</td>\n",
              "      <td>43551.10</td>\n",
              "      <td>101885.95</td>\n",
              "      <td>192716.80</td>\n",
              "      <td>347188.33</td>\n",
              "    </tr>\n",
              "    <tr>\n",
              "      <th>1</th>\n",
              "      <td>1997</td>\n",
              "      <td>32826.00</td>\n",
              "      <td>199911.30</td>\n",
              "      <td>482894.84</td>\n",
              "      <td>604714.56</td>\n",
              "      <td>1320346.70</td>\n",
              "      <td>24380.35</td>\n",
              "      <td>155492.92</td>\n",
              "      <td>387664.45</td>\n",
              "      <td>422442.89</td>\n",
              "      <td>989980.62</td>\n",
              "      <td>8445.64</td>\n",
              "      <td>44418.38</td>\n",
              "      <td>95230.39</td>\n",
              "      <td>182271.67</td>\n",
              "      <td>330366.08</td>\n",
              "    </tr>\n",
              "    <tr>\n",
              "      <th>2</th>\n",
              "      <td>1998</td>\n",
              "      <td>31818.41</td>\n",
              "      <td>200969.74</td>\n",
              "      <td>455966.00</td>\n",
              "      <td>576123.41</td>\n",
              "      <td>1264877.57</td>\n",
              "      <td>23463.11</td>\n",
              "      <td>157842.94</td>\n",
              "      <td>369315.33</td>\n",
              "      <td>408645.98</td>\n",
              "      <td>959267.36</td>\n",
              "      <td>8355.30</td>\n",
              "      <td>43126.80</td>\n",
              "      <td>86650.67</td>\n",
              "      <td>167477.43</td>\n",
              "      <td>305610.21</td>\n",
              "    </tr>\n",
              "  </tbody>\n",
              "</table>\n",
              "</div>"
            ],
            "text/plain": [
              "     0        1         2         3   ...       14        15        16        17\n",
              "0  1996 31597.66 200211.78 514755.88  ... 43551.10 101885.95 192716.80 347188.33\n",
              "1  1997 32826.00 199911.30 482894.84  ... 44418.38  95230.39 182271.67 330366.08\n",
              "2  1998 31818.41 200969.74 455966.00  ... 43126.80  86650.67 167477.43 305610.21\n",
              "\n",
              "[3 rows x 16 columns]"
            ]
          },
          "metadata": {},
          "execution_count": 7
        }
      ]
    },
    {
      "cell_type": "code",
      "metadata": {
        "id": "g45bfDzStjnz"
      },
      "source": [
        "df_pib_renda.rename(columns={0:\"ANO\",1:\"Agronegocio_Insumos\",2:\"Agronegocio_Agropecuaria\",3:\"Agronegocio_Industria\",4:\"Agronegocio_Servicos\",5:\"Total_Agronegocio\",\n",
        "           7:\"Agricola_Insumos\",8:\"Agricola_Agropecuaria\",9:\"Agricola_Industria\",10:\"Agricola_Servicos\",11:\"Total_Ramo_Agricola\",\t\n",
        "           13:\"Pecuario_Insumos\",14:\"Pecuario_Agropecuaria\",15:\"Pecuario_Industria\",16:\"Pecuario_Servicos\",17:\"Total_Ramo_Pecuario\"},inplace=True)"
      ],
      "execution_count": 8,
      "outputs": []
    },
    {
      "cell_type": "code",
      "metadata": {
        "id": "O9diXjPT3pm1"
      },
      "source": [
        "df_pib_renda['ANO'] = df_pib_renda['ANO'].astype(str).apply(lambda x: x.replace('.0',''))"
      ],
      "execution_count": 9,
      "outputs": []
    },
    {
      "cell_type": "code",
      "metadata": {
        "colab": {
          "base_uri": "https://localhost:8080/",
          "height": 220
        },
        "id": "vsaInOXKrQ3K",
        "outputId": "618d79ac-7018-4983-c7af-5a104533963b"
      },
      "source": [
        "df_pib_renda.tail(5)"
      ],
      "execution_count": 10,
      "outputs": [
        {
          "output_type": "execute_result",
          "data": {
            "text/html": [
              "<div>\n",
              "<style scoped>\n",
              "    .dataframe tbody tr th:only-of-type {\n",
              "        vertical-align: middle;\n",
              "    }\n",
              "\n",
              "    .dataframe tbody tr th {\n",
              "        vertical-align: top;\n",
              "    }\n",
              "\n",
              "    .dataframe thead th {\n",
              "        text-align: right;\n",
              "    }\n",
              "</style>\n",
              "<table border=\"1\" class=\"dataframe\">\n",
              "  <thead>\n",
              "    <tr style=\"text-align: right;\">\n",
              "      <th></th>\n",
              "      <th>ANO</th>\n",
              "      <th>Agronegocio_Insumos</th>\n",
              "      <th>Agronegocio_Agropecuaria</th>\n",
              "      <th>Agronegocio_Industria</th>\n",
              "      <th>Agronegocio_Servicos</th>\n",
              "      <th>Total_Agronegocio</th>\n",
              "      <th>Agricola_Insumos</th>\n",
              "      <th>Agricola_Agropecuaria</th>\n",
              "      <th>Agricola_Industria</th>\n",
              "      <th>Agricola_Servicos</th>\n",
              "      <th>Total_Ramo_Agricola</th>\n",
              "      <th>Pecuario_Insumos</th>\n",
              "      <th>Pecuario_Agropecuaria</th>\n",
              "      <th>Pecuario_Industria</th>\n",
              "      <th>Pecuario_Servicos</th>\n",
              "      <th>Total_Ramo_Pecuario</th>\n",
              "    </tr>\n",
              "  </thead>\n",
              "  <tbody>\n",
              "    <tr>\n",
              "      <th>19</th>\n",
              "      <td>2015</td>\n",
              "      <td>69336.31</td>\n",
              "      <td>353348.83</td>\n",
              "      <td>440195.16</td>\n",
              "      <td>621185.37</td>\n",
              "      <td>1484065.67</td>\n",
              "      <td>46449.37</td>\n",
              "      <td>223335.35</td>\n",
              "      <td>338984.88</td>\n",
              "      <td>403179.84</td>\n",
              "      <td>1011949.44</td>\n",
              "      <td>22886.94</td>\n",
              "      <td>130013.48</td>\n",
              "      <td>101210.28</td>\n",
              "      <td>218005.53</td>\n",
              "      <td>472116.23</td>\n",
              "    </tr>\n",
              "    <tr>\n",
              "      <th>20</th>\n",
              "      <td>2016</td>\n",
              "      <td>70245.63</td>\n",
              "      <td>397484.96</td>\n",
              "      <td>460579.98</td>\n",
              "      <td>664383.47</td>\n",
              "      <td>1592694.04</td>\n",
              "      <td>44848.41</td>\n",
              "      <td>265773.75</td>\n",
              "      <td>360066.63</td>\n",
              "      <td>447302.75</td>\n",
              "      <td>1117991.54</td>\n",
              "      <td>25397.22</td>\n",
              "      <td>131711.21</td>\n",
              "      <td>100513.35</td>\n",
              "      <td>217080.72</td>\n",
              "      <td>474702.50</td>\n",
              "    </tr>\n",
              "    <tr>\n",
              "      <th>21</th>\n",
              "      <td>2017</td>\n",
              "      <td>65892.22</td>\n",
              "      <td>371214.00</td>\n",
              "      <td>441160.43</td>\n",
              "      <td>628219.00</td>\n",
              "      <td>1506485.65</td>\n",
              "      <td>42959.91</td>\n",
              "      <td>253509.90</td>\n",
              "      <td>342677.05</td>\n",
              "      <td>418586.15</td>\n",
              "      <td>1057733.01</td>\n",
              "      <td>22932.31</td>\n",
              "      <td>117704.11</td>\n",
              "      <td>98483.38</td>\n",
              "      <td>209632.84</td>\n",
              "      <td>448752.64</td>\n",
              "    </tr>\n",
              "    <tr>\n",
              "      <th>22</th>\n",
              "      <td>2018</td>\n",
              "      <td>74975.03</td>\n",
              "      <td>361999.80</td>\n",
              "      <td>444452.28</td>\n",
              "      <td>614615.27</td>\n",
              "      <td>1496042.38</td>\n",
              "      <td>50813.78</td>\n",
              "      <td>247021.45</td>\n",
              "      <td>358947.33</td>\n",
              "      <td>439340.61</td>\n",
              "      <td>1096123.16</td>\n",
              "      <td>24161.25</td>\n",
              "      <td>114978.35</td>\n",
              "      <td>85504.96</td>\n",
              "      <td>175274.67</td>\n",
              "      <td>399919.22</td>\n",
              "    </tr>\n",
              "    <tr>\n",
              "      <th>23</th>\n",
              "      <td>2019</td>\n",
              "      <td>79130.82</td>\n",
              "      <td>351035.20</td>\n",
              "      <td>466608.35</td>\n",
              "      <td>656221.02</td>\n",
              "      <td>1552995.39</td>\n",
              "      <td>53871.00</td>\n",
              "      <td>212553.27</td>\n",
              "      <td>361527.85</td>\n",
              "      <td>430287.33</td>\n",
              "      <td>1058239.45</td>\n",
              "      <td>25259.81</td>\n",
              "      <td>138481.93</td>\n",
              "      <td>105080.50</td>\n",
              "      <td>225933.69</td>\n",
              "      <td>494755.93</td>\n",
              "    </tr>\n",
              "  </tbody>\n",
              "</table>\n",
              "</div>"
            ],
            "text/plain": [
              "     ANO  Agronegocio_Insumos  ...  Pecuario_Servicos  Total_Ramo_Pecuario\n",
              "19  2015             69336.31  ...          218005.53            472116.23\n",
              "20  2016             70245.63  ...          217080.72            474702.50\n",
              "21  2017             65892.22  ...          209632.84            448752.64\n",
              "22  2018             74975.03  ...          175274.67            399919.22\n",
              "23  2019             79130.82  ...          225933.69            494755.93\n",
              "\n",
              "[5 rows x 16 columns]"
            ]
          },
          "metadata": {},
          "execution_count": 10
        }
      ]
    },
    {
      "cell_type": "code",
      "metadata": {
        "id": "qbjPAUCTDo9P"
      },
      "source": [
        "#  PIB do Agronegócio Brasileiro, 1996 a 2019, em R$ Milhões correntes\n",
        "df_pib = pd.read_excel('PIB_Cepea.xlsx', index_col = None, skiprows= 7, nrows= 24, sheet_name='PIB', usecols='A:AJ')"
      ],
      "execution_count": 11,
      "outputs": []
    },
    {
      "cell_type": "code",
      "metadata": {
        "id": "Biom0Mj6GpYq"
      },
      "source": [
        "df_pib.columns=list(range(0,len(df_pib.columns)))"
      ],
      "execution_count": 12,
      "outputs": []
    },
    {
      "cell_type": "code",
      "metadata": {
        "id": "zYQ54PQfGpYs"
      },
      "source": [
        "coluna = 1\n",
        "while coluna <= 18:\n",
        "  df_pib.drop(columns=[coluna],inplace=True)\n",
        "  coluna += 1\n",
        "df_pib.drop(columns=[24,30],inplace=True)"
      ],
      "execution_count": 13,
      "outputs": []
    },
    {
      "cell_type": "code",
      "metadata": {
        "id": "0fwhfh95GpYs"
      },
      "source": [
        "df_pib.rename(columns={0:\"ANO\",19:\"Agronegocio_Insumos\",20:\"Agronegocio_Agropecuaria\",21:\"Agronegocio_Industria\",22:\"Agronegocio_Servicos\",23:\"Total_Agronegocio\",\n",
        "           25:\"Agricola_Insumos\",26:\"Agricola_Agropecuaria\",27:\"Agricola_Industria\",28:\"Agricola_Servicos\",29:\"Total_Ramo_Agricola\",\t\n",
        "           31:\"Pecuario_Insumos\",32:\"Pecuario_Agropecuaria\",33:\"Pecuario_Industria\",34:\"Pecuario_Servicos\",35:\"Total_Ramo_Pecuario\"},inplace=True)"
      ],
      "execution_count": 14,
      "outputs": []
    },
    {
      "cell_type": "code",
      "metadata": {
        "colab": {
          "base_uri": "https://localhost:8080/",
          "height": 220
        },
        "id": "yBIKTOGiGpYt",
        "outputId": "46477ac0-7fcb-4b4d-822d-d8eb1aef13c6"
      },
      "source": [
        "df_pib.head(5)"
      ],
      "execution_count": 19,
      "outputs": [
        {
          "output_type": "execute_result",
          "data": {
            "text/html": [
              "<div>\n",
              "<style scoped>\n",
              "    .dataframe tbody tr th:only-of-type {\n",
              "        vertical-align: middle;\n",
              "    }\n",
              "\n",
              "    .dataframe tbody tr th {\n",
              "        vertical-align: top;\n",
              "    }\n",
              "\n",
              "    .dataframe thead th {\n",
              "        text-align: right;\n",
              "    }\n",
              "</style>\n",
              "<table border=\"1\" class=\"dataframe\">\n",
              "  <thead>\n",
              "    <tr style=\"text-align: right;\">\n",
              "      <th></th>\n",
              "      <th>ANO</th>\n",
              "      <th>Agronegocio_Insumos</th>\n",
              "      <th>Agronegocio_Agropecuaria</th>\n",
              "      <th>Agronegocio_Industria</th>\n",
              "      <th>Agronegocio_Servicos</th>\n",
              "      <th>Total_Agronegocio</th>\n",
              "      <th>Agricola_Insumos</th>\n",
              "      <th>Agricola_Agropecuaria</th>\n",
              "      <th>Agricola_Industria</th>\n",
              "      <th>Agricola_Servicos</th>\n",
              "      <th>Total_Ramo_Agricola</th>\n",
              "      <th>Pecuario_Insumos</th>\n",
              "      <th>Pecuario_Agropecuaria</th>\n",
              "      <th>Pecuario_Industria</th>\n",
              "      <th>Pecuario_Servicos</th>\n",
              "      <th>Total_Ramo_Pecuario</th>\n",
              "    </tr>\n",
              "  </thead>\n",
              "  <tbody>\n",
              "    <tr>\n",
              "      <th>0</th>\n",
              "      <td>1996</td>\n",
              "      <td>6177.21</td>\n",
              "      <td>39140.56</td>\n",
              "      <td>100632.61</td>\n",
              "      <td>126395.26</td>\n",
              "      <td>272345.65</td>\n",
              "      <td>4411.01</td>\n",
              "      <td>30626.50</td>\n",
              "      <td>80714.34</td>\n",
              "      <td>88719.94</td>\n",
              "      <td>204471.79</td>\n",
              "      <td>1766.20</td>\n",
              "      <td>8514.06</td>\n",
              "      <td>19918.28</td>\n",
              "      <td>37675.32</td>\n",
              "      <td>67873.86</td>\n",
              "    </tr>\n",
              "    <tr>\n",
              "      <th>1</th>\n",
              "      <td>1997</td>\n",
              "      <td>6913.34</td>\n",
              "      <td>42102.46</td>\n",
              "      <td>101700.41</td>\n",
              "      <td>127356.34</td>\n",
              "      <td>278072.56</td>\n",
              "      <td>5134.64</td>\n",
              "      <td>32747.70</td>\n",
              "      <td>81644.35</td>\n",
              "      <td>88968.89</td>\n",
              "      <td>208495.57</td>\n",
              "      <td>1778.70</td>\n",
              "      <td>9354.76</td>\n",
              "      <td>20056.06</td>\n",
              "      <td>38387.46</td>\n",
              "      <td>69576.98</td>\n",
              "    </tr>\n",
              "    <tr>\n",
              "      <th>2</th>\n",
              "      <td>1998</td>\n",
              "      <td>7031.13</td>\n",
              "      <td>44409.63</td>\n",
              "      <td>100757.86</td>\n",
              "      <td>127309.85</td>\n",
              "      <td>279508.47</td>\n",
              "      <td>5184.80</td>\n",
              "      <td>34879.61</td>\n",
              "      <td>81610.08</td>\n",
              "      <td>90301.24</td>\n",
              "      <td>211975.74</td>\n",
              "      <td>1846.33</td>\n",
              "      <td>9530.02</td>\n",
              "      <td>19147.78</td>\n",
              "      <td>37008.61</td>\n",
              "      <td>67532.73</td>\n",
              "    </tr>\n",
              "    <tr>\n",
              "      <th>3</th>\n",
              "      <td>1999</td>\n",
              "      <td>8302.19</td>\n",
              "      <td>49395.04</td>\n",
              "      <td>108168.70</td>\n",
              "      <td>136791.09</td>\n",
              "      <td>302657.03</td>\n",
              "      <td>5915.62</td>\n",
              "      <td>37993.74</td>\n",
              "      <td>88546.43</td>\n",
              "      <td>99294.24</td>\n",
              "      <td>231750.03</td>\n",
              "      <td>2386.57</td>\n",
              "      <td>11401.30</td>\n",
              "      <td>19622.28</td>\n",
              "      <td>37496.85</td>\n",
              "      <td>70907.00</td>\n",
              "    </tr>\n",
              "    <tr>\n",
              "      <th>4</th>\n",
              "      <td>2000</td>\n",
              "      <td>10254.48</td>\n",
              "      <td>52724.43</td>\n",
              "      <td>125262.35</td>\n",
              "      <td>157840.62</td>\n",
              "      <td>346081.89</td>\n",
              "      <td>7281.81</td>\n",
              "      <td>37107.02</td>\n",
              "      <td>103776.57</td>\n",
              "      <td>116895.48</td>\n",
              "      <td>265060.89</td>\n",
              "      <td>2972.67</td>\n",
              "      <td>15617.41</td>\n",
              "      <td>21485.78</td>\n",
              "      <td>40945.14</td>\n",
              "      <td>81021.00</td>\n",
              "    </tr>\n",
              "  </tbody>\n",
              "</table>\n",
              "</div>"
            ],
            "text/plain": [
              "    ANO  Agronegocio_Insumos  ...  Pecuario_Servicos  Total_Ramo_Pecuario\n",
              "0  1996              6177.21  ...           37675.32             67873.86\n",
              "1  1997              6913.34  ...           38387.46             69576.98\n",
              "2  1998              7031.13  ...           37008.61             67532.73\n",
              "3  1999              8302.19  ...           37496.85             70907.00\n",
              "4  2000             10254.48  ...           40945.14             81021.00\n",
              "\n",
              "[5 rows x 16 columns]"
            ]
          },
          "metadata": {},
          "execution_count": 19
        }
      ]
    },
    {
      "cell_type": "code",
      "metadata": {
        "id": "Li0ScMjy-vfS"
      },
      "source": [
        "### TO SQL\n",
        "# pip install pyodbc\n",
        "import pyodbc"
      ],
      "execution_count": null,
      "outputs": []
    },
    {
      "cell_type": "code",
      "metadata": {
        "id": "wO17xTzN8GRv"
      },
      "source": [
        "driver = 'SQL Server'\n",
        "server = 'LOCALDB#A39D6D0C'\n",
        "db = 'DesafioEF'\n",
        "tcon = 'yes'\n",
        "uname = 'sa'\n",
        "pword = 'xxxxxxxxxx'"
      ],
      "execution_count": null,
      "outputs": []
    },
    {
      "cell_type": "code",
      "metadata": {
        "id": "eHD7Oa2BK5al"
      },
      "source": [
        "dbconn = pyodbc.connect(driver='{SQL Server Native Client 11.0}', host=server, database=db,\n",
        "                      trusted_connection=tcon, user=uname, password=pword)"
      ],
      "execution_count": null,
      "outputs": []
    },
    {
      "cell_type": "code",
      "metadata": {
        "id": "WwITSbCnK5eA"
      },
      "source": [
        "cursor = dbconn.cursor()"
      ],
      "execution_count": null,
      "outputs": []
    },
    {
      "cell_type": "code",
      "metadata": {
        "id": "Lf0km5IW5voe"
      },
      "source": [
        "cursor.execute(\n",
        "\"CREATE TABLE [dbo].[PIB_Cepea_PIB_Renda](\"\n",
        "\"\t[ANO]\t\t\t\t\t\t            [int] NOT NULL,\"\n",
        "\"\t[Agronegocio_Insumos]       [float] NOT NULL,\"\n",
        "\"\t[Agronegocio_Agropecuaria]  [float] NOT NULL,\"\n",
        "\"\t[Agronegocio_Industria]     [float] NOT NULL,\"\n",
        "\"\t[Agronegocio_Serviços]      [float] NOT NULL,\"\n",
        "\"\t[Total_Agronegócio]         [float] NOT NULL,\"\n",
        "\"\t[Agricola_Insumos]          [float] NOT NULL,\"\n",
        "\"\t[Agricola_Agropecuária]     [float] NOT NULL,\"\n",
        "\"\t[Agricola_Indústria]        [float] NOT NULL,\"\n",
        "\"\t[Agricola_Serviços]         [float] NOT NULL,\"\n",
        "\"\t[Total_Ramo_Agricola]       [float] NOT NULL,\"\n",
        "\"\t[Pecuario_Insumos]          [float] NOT NULL,\"\n",
        "\"\t[Pecuario_Agropecuária]     [float] NOT NULL,\"\n",
        "\"\t[Pecuario_Indústria]        [float] NOT NULL,\"\n",
        "\"\t[Pecuario_Serviços]         [float] NOT NULL,\"\n",
        "\"\t[Total_Ramo_Pecuario]       [float] NOT NULL\") "
      ],
      "execution_count": null,
      "outputs": []
    },
    {
      "cell_type": "code",
      "metadata": {
        "id": "q959OsBFK5hU"
      },
      "source": [
        "cursor.execute(\n",
        "\"CREATE TABLE [dbo].[PIB_Cepea_PIB](\"\n",
        "\"\t[ANO]\t\t\t\t\t\t            [int] NOT NULL,\"\n",
        "\"\t[Agronegocio_Insumos]       [float] NOT NULL,\"\n",
        "\"\t[Agronegocio_Agropecuaria]  [float] NOT NULL,\"\n",
        "\"\t[Agronegocio_Industria]     [float] NOT NULL,\"\n",
        "\"\t[Agronegocio_Serviços]      [float] NOT NULL,\"\n",
        "\"\t[Total_Agronegócio]         [float] NOT NULL,\"\n",
        "\"\t[Agricola_Insumos]          [float] NOT NULL,\"\n",
        "\"\t[Agricola_Agropecuária]     [float] NOT NULL,\"\n",
        "\"\t[Agricola_Indústria]        [float] NOT NULL,\"\n",
        "\"\t[Agricola_Serviços]         [float] NOT NULL,\"\n",
        "\"\t[Total_Ramo_Agricola]       [float] NOT NULL,\"\n",
        "\"\t[Pecuario_Insumos]          [float] NOT NULL,\"\n",
        "\"\t[Pecuario_Agropecuária]     [float] NOT NULL,\"\n",
        "\"\t[Pecuario_Indústria]        [float] NOT NULL,\"\n",
        "\"\t[Pecuario_Serviços]         [float] NOT NULL,\"\n",
        "\"\t[Total_Ramo_Pecuario]       [float] NOT NULL\") "
      ],
      "execution_count": null,
      "outputs": []
    },
    {
      "cell_type": "code",
      "metadata": {
        "id": "IPijikly0dtm"
      },
      "source": [
        "for index, row in df_pib_renda.iterrows():\n",
        "     cursor.execute(\"INSERT INTO DesafioEF.PIB_Cepea_PIB_Renda (ANO,Agronegocio_Insumos,Agronegocio_Agropecuaria,Agronegocio_Industria,Agronegocio_Serviços,Total_Agronegócio,\"\n",
        "                                                                \"   Agricola_Insumos,Agricola_Agropecuária,Agricola_Indústria,Agricola_Serviços,Total_Ramo_Agricola,\"\n",
        "                                                                \"   Pecuario_Insumos,Pecuario_Agropecuária,Pecuario_Indústria,Pecuario_Serviços,Total_Ramo_Pecuario) values(?,?,?,?,?,?,?,?,?,?,?,?,?,?,?,?)\", \n",
        "                    row.ANO,row.Agronegocio_Insumos,row.Agronegocio_Agropecuaria,row.Agronegocio_Industria,row.Agronegocio_Serviços,row.Total_Agronegócio,\n",
        "                            row.Agricola_Insumos,row.Agricola_Agropecuária,row.Agricola_Indústria,row.Agricola_Serviços,row.Total_Ramo_Agricola,\n",
        "                            row.Pecuario_Insumos,row.Pecuario_Agropecuária,row.Pecuario_Indústria,row.Pecuario_Serviços,row.Total_Ramo_Pecuario)\n",
        "dbconn.commit()"
      ],
      "execution_count": null,
      "outputs": []
    },
    {
      "cell_type": "code",
      "metadata": {
        "id": "E-pf0lvf9YJX"
      },
      "source": [
        "for index, row in df_pib.iterrows():\n",
        "     cursor.execute(\"INSERT INTO DesafioEF.PIB_Cepea_PIB (ANO,Agronegocio_Insumos,Agronegocio_Agropecuaria,Agronegocio_Industria,Agronegocio_Serviços,Total_Agronegócio,\"\n",
        "                                                          \"   Agricola_Insumos,Agricola_Agropecuária,Agricola_Indústria,Agricola_Serviços,Total_Ramo_Agricola,\"\n",
        "                                                          \"   Pecuario_Insumos,Pecuario_Agropecuária,Pecuario_Indústria,Pecuario_Serviços,Total_Ramo_Pecuario) values(?,?,?,?,?,?,?,?,?,?,?,?,?,?,?,?)\", \n",
        "                    row.ANO,row.Agronegocio_Insumos,row.Agronegocio_Agropecuaria,row.Agronegocio_Industria,row.Agronegocio_Serviços,row.Total_Agronegócio,\n",
        "                            row.Agricola_Insumos,row.Agricola_Agropecuária,row.Agricola_Indústria,row.Agricola_Serviços,row.Total_Ramo_Agricola,\n",
        "                            row.Pecuario_Insumos,row.Pecuario_Agropecuária,row.Pecuario_Indústria,row.Pecuario_Serviços,row.Total_Ramo_Pecuario)\n",
        "dbconn.commit()"
      ],
      "execution_count": null,
      "outputs": []
    },
    {
      "cell_type": "code",
      "metadata": {
        "id": "M6e-Enk8K5jy"
      },
      "source": [
        "cursor.close()\n",
        "dbconn.close()"
      ],
      "execution_count": null,
      "outputs": []
    }
  ]
}