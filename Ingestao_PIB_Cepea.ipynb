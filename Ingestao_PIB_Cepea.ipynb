{
  "nbformat": 4,
  "nbformat_minor": 0,
  "metadata": {
    "colab": {
      "name": "Ingestao_PIB_Cepea.ipynb",
      "provenance": [],
      "collapsed_sections": [],
      "authorship_tag": "ABX9TyP1Wf4mHl+rJmUXBUSifEU0",
      "include_colab_link": true
    },
    "kernelspec": {
      "name": "python3",
      "display_name": "Python 3"
    },
    "language_info": {
      "name": "python"
    }
  },
  "cells": [
    {
      "cell_type": "markdown",
      "metadata": {
        "id": "view-in-github",
        "colab_type": "text"
      },
      "source": [
        "<a href=\"https://colab.research.google.com/github/allysonbueno/ef_test/blob/main/Ingestao_PIB_Cepea.ipynb\" target=\"_parent\"><img src=\"https://colab.research.google.com/assets/colab-badge.svg\" alt=\"Open In Colab\"/></a>"
      ]
    },
    {
      "cell_type": "code",
      "metadata": {
        "id": "QmCbvxlIx228"
      },
      "source": [
        "import pandas as pd"
      ],
      "execution_count": null,
      "outputs": []
    },
    {
      "cell_type": "code",
      "metadata": {
        "id": "BA6OBFr_zKZt"
      },
      "source": [
        "# pip install pandera\n",
        "import pandera as pa"
      ],
      "execution_count": null,
      "outputs": []
    },
    {
      "cell_type": "code",
      "metadata": {
        "id": "9G6wa-AkCeL9"
      },
      "source": [
        "pd.options.display.float_format = '{:.2f}'.format"
      ],
      "execution_count": null,
      "outputs": []
    },
    {
      "cell_type": "code",
      "metadata": {
        "id": "Amm0J370yF9F"
      },
      "source": [
        "# PIB-renda do Agronegócio Brasileiro, 1996 a 2019, em R$ Milhões de dez/2019\n",
        "df_pib_renda = pd.read_excel('PIB_Cepea.xlsx', index_col = None, skiprows= 7, nrows= 25, sheet_name='PIB', usecols='A:R')"
      ],
      "execution_count": null,
      "outputs": []
    },
    {
      "cell_type": "code",
      "metadata": {
        "id": "wQem9x7l5Gtz"
      },
      "source": [
        "df_pib_renda.columns=list(range(0,len(df_pib_renda.columns)))"
      ],
      "execution_count": null,
      "outputs": []
    },
    {
      "cell_type": "code",
      "metadata": {
        "id": "Ax2kSytn6SL0"
      },
      "source": [
        "df_pib_renda.drop(columns=[6,12],inplace=True)"
      ],
      "execution_count": null,
      "outputs": []
    },
    {
      "cell_type": "code",
      "metadata": {
        "id": "g45bfDzStjnz"
      },
      "source": [
        "df_pib_renda.rename(columns={0:\"ANO\",1:\"(A) Agronegócio Insumos\",2:\"(B) Agronegócio Agropecuária\",3:\"(C) Agronegócio Indústria\",4:\"(D) Agronegócio Serviços\",5:\"Agronegócio Total (A+B+C+D)\",\n",
        "           7:\"(A) Agrícola Insumos\",8:\"(B) Agrícola Agropecuária\",9:\"(C) Agrícola Indústria\",10:\"(D) Agrícola Serviços\",11:\"Ramo Agrícola (A+B+C+D)\",\t\n",
        " \t         13:\"(A) Pecuário Insumos\",14:\"(B) Pecuário Agropecuária\",15:\"(C) Pecuário Indústria\",16:\"(D) Pecuário Serviços\",17:\"Ramo Pecuário (A+B+C+D)\"},inplace=True)"
      ],
      "execution_count": null,
      "outputs": []
    },
    {
      "cell_type": "code",
      "metadata": {
        "id": "O9diXjPT3pm1"
      },
      "source": [
        "df_pib_renda['ANO'] = df_pib_renda['ANO'].astype(str).apply(lambda x: x.replace('.0',''))"
      ],
      "execution_count": null,
      "outputs": []
    },
    {
      "cell_type": "code",
      "metadata": {
        "colab": {
          "base_uri": "https://localhost:8080/",
          "height": 143
        },
        "id": "vsaInOXKrQ3K",
        "outputId": "b0589a1d-9826-431c-ef3d-f49ce674d7cb"
      },
      "source": [
        "df_pib_renda.head(2)"
      ],
      "execution_count": null,
      "outputs": [
        {
          "output_type": "execute_result",
          "data": {
            "text/html": [
              "<div>\n",
              "<style scoped>\n",
              "    .dataframe tbody tr th:only-of-type {\n",
              "        vertical-align: middle;\n",
              "    }\n",
              "\n",
              "    .dataframe tbody tr th {\n",
              "        vertical-align: top;\n",
              "    }\n",
              "\n",
              "    .dataframe thead th {\n",
              "        text-align: right;\n",
              "    }\n",
              "</style>\n",
              "<table border=\"1\" class=\"dataframe\">\n",
              "  <thead>\n",
              "    <tr style=\"text-align: right;\">\n",
              "      <th></th>\n",
              "      <th>ANO</th>\n",
              "      <th>(A) Agronegócio Insumos</th>\n",
              "      <th>(B) Agronegócio Agropecuária</th>\n",
              "      <th>(C) Agronegócio Indústria</th>\n",
              "      <th>(D) Agronegócio Serviços</th>\n",
              "      <th>Agronegócio Total (A+B+C+D)</th>\n",
              "      <th>(A) Agrícola Insumos</th>\n",
              "      <th>(B) Agrícola Agropecuária</th>\n",
              "      <th>(C) Agrícola Indústria</th>\n",
              "      <th>(D) Agrícola Serviços</th>\n",
              "      <th>Ramo Agrícola (A+B+C+D)</th>\n",
              "      <th>(A) Pecuário Insumos</th>\n",
              "      <th>(B) Pecuário Agropecuária</th>\n",
              "      <th>(C) Pecuário Indústria</th>\n",
              "      <th>(D) Pecuário Serviços</th>\n",
              "      <th>Ramo Pecuário (A+B+C+D)</th>\n",
              "    </tr>\n",
              "  </thead>\n",
              "  <tbody>\n",
              "    <tr>\n",
              "      <th>0</th>\n",
              "      <td>1996</td>\n",
              "      <td>31597.66</td>\n",
              "      <td>200211.78</td>\n",
              "      <td>514755.88</td>\n",
              "      <td>646536.98</td>\n",
              "      <td>1393102.31</td>\n",
              "      <td>22563.19</td>\n",
              "      <td>156660.68</td>\n",
              "      <td>412869.93</td>\n",
              "      <td>453820.18</td>\n",
              "      <td>1045913.98</td>\n",
              "      <td>9034.47</td>\n",
              "      <td>43551.10</td>\n",
              "      <td>101885.95</td>\n",
              "      <td>192716.80</td>\n",
              "      <td>347188.33</td>\n",
              "    </tr>\n",
              "    <tr>\n",
              "      <th>1</th>\n",
              "      <td>1997</td>\n",
              "      <td>32826.00</td>\n",
              "      <td>199911.30</td>\n",
              "      <td>482894.84</td>\n",
              "      <td>604714.56</td>\n",
              "      <td>1320346.70</td>\n",
              "      <td>24380.35</td>\n",
              "      <td>155492.92</td>\n",
              "      <td>387664.45</td>\n",
              "      <td>422442.89</td>\n",
              "      <td>989980.62</td>\n",
              "      <td>8445.64</td>\n",
              "      <td>44418.38</td>\n",
              "      <td>95230.39</td>\n",
              "      <td>182271.67</td>\n",
              "      <td>330366.08</td>\n",
              "    </tr>\n",
              "  </tbody>\n",
              "</table>\n",
              "</div>"
            ],
            "text/plain": [
              "    ANO  ...  Ramo Pecuário (A+B+C+D)\n",
              "0  1996  ...                347188.33\n",
              "1  1997  ...                330366.08\n",
              "\n",
              "[2 rows x 16 columns]"
            ]
          },
          "metadata": {},
          "execution_count": 9
        }
      ]
    },
    {
      "cell_type": "code",
      "metadata": {
        "id": "qbjPAUCTDo9P"
      },
      "source": [
        "#  PIB do Agronegócio Brasileiro, 1996 a 2019, em R$ Milhões correntes\n",
        "df_pib = pd.read_excel('PIB_Cepea.xlsx', index_col = None, skiprows= 7, nrows= 36, sheet_name='PIB', usecols='A:AJ')"
      ],
      "execution_count": null,
      "outputs": []
    },
    {
      "cell_type": "code",
      "metadata": {
        "id": "Biom0Mj6GpYq"
      },
      "source": [
        "df_pib.columns=list(range(0,len(df_pib.columns)))"
      ],
      "execution_count": null,
      "outputs": []
    },
    {
      "cell_type": "code",
      "metadata": {
        "id": "zYQ54PQfGpYs"
      },
      "source": [
        "coluna = 1\n",
        "while coluna <= 18:\n",
        "  df_pib.drop(columns=[coluna],inplace=True)\n",
        "  coluna += 1\n",
        "df_pib.drop(columns=[24,30],inplace=True)"
      ],
      "execution_count": null,
      "outputs": []
    },
    {
      "cell_type": "code",
      "metadata": {
        "id": "0fwhfh95GpYs"
      },
      "source": [
        "df_pib.rename(columns={0:\"ANO\",19:\"(A) Insumos\",20:\"(B) Agropecuária\",21:\"(C) Indústria\",22:\"(D) Serviços\",23:\"Agronegócio Total (A+B+C+D)\",25:\"(A) Insumos\",26:\"(B) Agropecuária\",27:\"(C) Indústria\",\n",
        "                      28:\"(D) Serviços\",29:\"Ramo Agrícola (A+B+C+D)\",31:\"(A) Insumos\",32:\"(B) Agropecuária\",33:\"(C) Indústria\",34:\"(D) Serviços\",35:\"Ramo Pecuário (A+B+C+D)\"},inplace=True)"
      ],
      "execution_count": null,
      "outputs": []
    },
    {
      "cell_type": "code",
      "metadata": {
        "colab": {
          "base_uri": "https://localhost:8080/",
          "height": 126
        },
        "id": "yBIKTOGiGpYt",
        "outputId": "94aa6a1b-8809-4cee-8e42-12bc4272d7dd"
      },
      "source": [
        "df_pib.head(2)"
      ],
      "execution_count": null,
      "outputs": [
        {
          "output_type": "execute_result",
          "data": {
            "text/html": [
              "<div>\n",
              "<style scoped>\n",
              "    .dataframe tbody tr th:only-of-type {\n",
              "        vertical-align: middle;\n",
              "    }\n",
              "\n",
              "    .dataframe tbody tr th {\n",
              "        vertical-align: top;\n",
              "    }\n",
              "\n",
              "    .dataframe thead th {\n",
              "        text-align: right;\n",
              "    }\n",
              "</style>\n",
              "<table border=\"1\" class=\"dataframe\">\n",
              "  <thead>\n",
              "    <tr style=\"text-align: right;\">\n",
              "      <th></th>\n",
              "      <th>ANO</th>\n",
              "      <th>(A) Insumos</th>\n",
              "      <th>(B) Agropecuária</th>\n",
              "      <th>(C) Indústria</th>\n",
              "      <th>(D) Serviços</th>\n",
              "      <th>Agronegócio Total (A+B+C+D)</th>\n",
              "      <th>(A) Insumos</th>\n",
              "      <th>(B) Agropecuária</th>\n",
              "      <th>(C) Indústria</th>\n",
              "      <th>(D) Serviços</th>\n",
              "      <th>Ramo Agrícola (A+B+C+D)</th>\n",
              "      <th>(A) Insumos</th>\n",
              "      <th>(B) Agropecuária</th>\n",
              "      <th>(C) Indústria</th>\n",
              "      <th>(D) Serviços</th>\n",
              "      <th>Ramo Pecuário (A+B+C+D)</th>\n",
              "    </tr>\n",
              "  </thead>\n",
              "  <tbody>\n",
              "    <tr>\n",
              "      <th>0</th>\n",
              "      <td>1996</td>\n",
              "      <td>6177.21</td>\n",
              "      <td>39140.56</td>\n",
              "      <td>100632.61</td>\n",
              "      <td>126395.26</td>\n",
              "      <td>272345.65</td>\n",
              "      <td>4411.01</td>\n",
              "      <td>30626.50</td>\n",
              "      <td>80714.34</td>\n",
              "      <td>88719.94</td>\n",
              "      <td>204471.79</td>\n",
              "      <td>1766.20</td>\n",
              "      <td>8514.06</td>\n",
              "      <td>19918.28</td>\n",
              "      <td>37675.32</td>\n",
              "      <td>67873.86</td>\n",
              "    </tr>\n",
              "    <tr>\n",
              "      <th>1</th>\n",
              "      <td>1997</td>\n",
              "      <td>6913.34</td>\n",
              "      <td>42102.46</td>\n",
              "      <td>101700.41</td>\n",
              "      <td>127356.34</td>\n",
              "      <td>278072.56</td>\n",
              "      <td>5134.64</td>\n",
              "      <td>32747.70</td>\n",
              "      <td>81644.35</td>\n",
              "      <td>88968.89</td>\n",
              "      <td>208495.57</td>\n",
              "      <td>1778.70</td>\n",
              "      <td>9354.76</td>\n",
              "      <td>20056.06</td>\n",
              "      <td>38387.46</td>\n",
              "      <td>69576.98</td>\n",
              "    </tr>\n",
              "  </tbody>\n",
              "</table>\n",
              "</div>"
            ],
            "text/plain": [
              "    ANO  (A) Insumos  ...  (D) Serviços  Ramo Pecuário (A+B+C+D)\n",
              "0  1996      6177.21  ...      37675.32                 67873.86\n",
              "1  1997      6913.34  ...      38387.46                 69576.98\n",
              "\n",
              "[2 rows x 16 columns]"
            ]
          },
          "metadata": {},
          "execution_count": 14
        }
      ]
    },
    {
      "cell_type": "code",
      "metadata": {
        "id": "Li0ScMjy-vfS"
      },
      "source": [
        "db### TO SQL\n",
        "import pyodbc"
      ],
      "execution_count": null,
      "outputs": []
    },
    {
      "cell_type": "code",
      "metadata": {
        "id": "wO17xTzN8GRv"
      },
      "source": [
        "driver = 'SQL Server'\n",
        "server = 'LOCALDB#A39D6D0C'\n",
        "db = 'DesafioEF'\n",
        "tcon = 'yes'\n",
        "uname = 'sa'\n",
        "pword = 'xxxxxxxxxx'"
      ],
      "execution_count": null,
      "outputs": []
    },
    {
      "cell_type": "code",
      "metadata": {
        "id": "eHD7Oa2BK5al"
      },
      "source": [
        "dbconn = pyodbc.connect(driver='{SQL Server Native Client 11.0}', host=server, database=db,\n",
        "                      trusted_connection=tcon, user=uname, password=pword)"
      ],
      "execution_count": null,
      "outputs": []
    },
    {
      "cell_type": "code",
      "metadata": {
        "id": "WwITSbCnK5eA"
      },
      "source": [
        "cursor = dbconn.cursor()"
      ],
      "execution_count": null,
      "outputs": []
    },
    {
      "cell_type": "code",
      "metadata": {
        "id": "q959OsBFK5hU"
      },
      "source": [
        "cursor.execute(\n",
        "\"CREATE TABLE [dbo].[Producao2019](\"\n",
        "\"\t [UF] [varchar](1000) NULL,\"\n",
        "\"    [HA_2019] [int] NOT NULL,\"\n",
        "\"    [HA_Maio] [int] NOT NULL,\"\n",
        "\"    [HA_Junho] [int] NOT NULL,\"\n",
        "\"    [ton_2019] [int] NOT NULL,\"\n",
        "\"    [ton_Maio] [int] NOT NULL,\"\n",
        "\"    [ton_Junho] [int] NOT NULL\")"
      ],
      "execution_count": null,
      "outputs": []
    },
    {
      "cell_type": "code",
      "metadata": {
        "id": "IPijikly0dtm"
      },
      "source": [
        "for index, row in df.iterrows():\n",
        "     cursor.execute(\"INSERT INTO HumanResources.DepartmentTest (DepartmentID,Name,GroupName) values(?,?,?)\", row.DepartmentID, row.Name, row.GroupName)\n",
        "cnxn.commit()\n",
        "cursor.close()"
      ],
      "execution_count": null,
      "outputs": []
    },
    {
      "cell_type": "code",
      "metadata": {
        "id": "M6e-Enk8K5jy"
      },
      "source": [
        "cursor.close()\n",
        "dbconn.close()"
      ],
      "execution_count": null,
      "outputs": []
    }
  ]
}