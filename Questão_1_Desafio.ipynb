{
  "nbformat": 4,
  "nbformat_minor": 5,
  "metadata": {
    "kernelspec": {
      "display_name": "Python 3",
      "language": "python",
      "name": "python3"
    },
    "language_info": {
      "codemirror_mode": {
        "name": "ipython",
        "version": 3
      },
      "file_extension": ".py",
      "mimetype": "text/x-python",
      "name": "python",
      "nbconvert_exporter": "python",
      "pygments_lexer": "ipython3",
      "version": "3.8.8"
    },
    "colab": {
      "name": "Questão-1-Desafio.ipynb",
      "provenance": [],
      "collapsed_sections": [],
      "include_colab_link": true
    }
  },
  "cells": [
    {
      "cell_type": "markdown",
      "metadata": {
        "id": "view-in-github",
        "colab_type": "text"
      },
      "source": [
        "<a href=\"https://colab.research.google.com/github/allysonbueno/ef_test/blob/main/Quest%C3%A3o_1_Desafio.ipynb\" target=\"_parent\"><img src=\"https://colab.research.google.com/assets/colab-badge.svg\" alt=\"Open In Colab\"/></a>"
      ]
    },
    {
      "cell_type": "code",
      "metadata": {
        "id": "6f358127-cb6c-4406-a118-2669b46ed2e0"
      },
      "source": [
        "import pandas as pd\n",
        "import numpy as np"
      ],
      "id": "6f358127-cb6c-4406-a118-2669b46ed2e0",
      "execution_count": null,
      "outputs": []
    },
    {
      "cell_type": "code",
      "metadata": {
        "id": "cfaada40-3b2d-4a4f-b79b-de8b7b0a1601"
      },
      "source": [
        "# pip install pyodbc\n",
        "import pyodbc"
      ],
      "id": "cfaada40-3b2d-4a4f-b79b-de8b7b0a1601",
      "execution_count": null,
      "outputs": []
    },
    {
      "cell_type": "code",
      "metadata": {
        "id": "78259419-ff50-4421-9189-c5e6cab05a3d"
      },
      "source": [
        "server = 'localhost' \n",
        "database = 'DesafioEF' \n",
        "username = 'datalake' \n",
        "password = 'xxxxxxxxxxx'  "
      ],
      "id": "78259419-ff50-4421-9189-c5e6cab05a3d",
      "execution_count": null,
      "outputs": []
    },
    {
      "cell_type": "code",
      "metadata": {
        "id": "e6d6e6cf-2bdc-4607-85ef-c7c9d6b9794f"
      },
      "source": [
        "conn = pyodbc.connect('DRIVER={SQL Server};SERVER='+server+';DATABASE='+database+';UID='+username+';PWD='+ password)\n",
        "cursor = conn.cursor()"
      ],
      "id": "e6d6e6cf-2bdc-4607-85ef-c7c9d6b9794f",
      "execution_count": null,
      "outputs": []
    },
    {
      "cell_type": "code",
      "metadata": {
        "id": "cc7f09cd-4cf1-43c3-8b3b-a9ccdd6b80e2"
      },
      "source": [
        "query = \"SELECT * FROM Producao_2019;\"\n",
        "df = pd.read_sql(query, conn)"
      ],
      "id": "cc7f09cd-4cf1-43c3-8b3b-a9ccdd6b80e2",
      "execution_count": null,
      "outputs": []
    },
    {
      "cell_type": "code",
      "metadata": {
        "tags": [],
        "id": "ca3413c2-12ae-4a43-b0ad-08794011f1ee"
      },
      "source": [
        "Prod_anual_BR = df['ton_2019'].sum()\n",
        "Prod_semestral_BR = Prod_anual_BR / 2"
      ],
      "id": "ca3413c2-12ae-4a43-b0ad-08794011f1ee",
      "execution_count": null,
      "outputs": []
    },
    {
      "cell_type": "code",
      "metadata": {
        "id": "b323befe-94e7-4380-9047-cc57fd1a1cbd"
      },
      "source": [
        "filtroCentroOeste = df.UF.str.contains('DISTRITO FEDERAL|GOIAS|MATO GROSSO|MATO GROSSO DO SUL')\n",
        "dfCentroOeste = df.loc[filtroCentroOeste]"
      ],
      "id": "b323befe-94e7-4380-9047-cc57fd1a1cbd",
      "execution_count": null,
      "outputs": []
    },
    {
      "cell_type": "code",
      "metadata": {
        "id": "dc1c876a-dee9-474c-b52d-a39940787a83"
      },
      "source": [
        "Prod_anual_Centro_Oeste = dfCentroOeste[\"ton_2019\"].sum()\n",
        "Prod_semestral_Centro_Oeste = Prod_anual_Centro_Oeste / 2"
      ],
      "id": "dc1c876a-dee9-474c-b52d-a39940787a83",
      "execution_count": null,
      "outputs": []
    },
    {
      "cell_type": "code",
      "metadata": {
        "id": "c29d34f0-84a1-4b88-b332-c727497ccc95"
      },
      "source": [
        "# 1) Qual a porcentagem de participação da região Centro-Oeste na produção nacional no primeiro semestre de 2019?\n",
        "Part_Centro_Oeste_Semestre = (Prod_semestral_Centro_Oeste * 100) / Prod_semestral_BR"
      ],
      "id": "c29d34f0-84a1-4b88-b332-c727497ccc95",
      "execution_count": null,
      "outputs": []
    },
    {
      "cell_type": "code",
      "metadata": {
        "id": "9649e5df-00d2-471f-b8e5-ae48a9bdf4cd"
      },
      "source": [
        "df_centro_oeste = pd.DataFrame({ \n",
        "    'Regiao':'CENTRO OESTE',\n",
        "    'Produção Primeiro Semestre 2019':[Part_Centro_Oeste_Semestre]\n",
        "})\n",
        "df_centro_oeste['Produção Primeiro Semestre 2019'] = df_centro_oeste['Produção Primeiro Semestre 2019'].apply(lambda x: \"{:_.2f}\".format(x).replace('.', ',').replace('_', '.')) + ' %'"
      ],
      "id": "9649e5df-00d2-471f-b8e5-ae48a9bdf4cd",
      "execution_count": null,
      "outputs": []
    },
    {
      "cell_type": "code",
      "metadata": {
        "id": "30715675-69e2-4575-9ae6-8be35b46eb8a",
        "outputId": "b0658f63-65e4-432d-85bd-90ac592f6466"
      },
      "source": [
        "###### ###### ######  RESPOSTA: ###### ###### ###### \n",
        "df_centro_oeste"
      ],
      "id": "30715675-69e2-4575-9ae6-8be35b46eb8a",
      "execution_count": null,
      "outputs": [
        {
          "data": {
            "text/html": [
              "<div>\n",
              "<style scoped>\n",
              "    .dataframe tbody tr th:only-of-type {\n",
              "        vertical-align: middle;\n",
              "    }\n",
              "\n",
              "    .dataframe tbody tr th {\n",
              "        vertical-align: top;\n",
              "    }\n",
              "\n",
              "    .dataframe thead th {\n",
              "        text-align: right;\n",
              "    }\n",
              "</style>\n",
              "<table border=\"1\" class=\"dataframe\">\n",
              "  <thead>\n",
              "    <tr style=\"text-align: right;\">\n",
              "      <th></th>\n",
              "      <th>Regiao</th>\n",
              "      <th>Produção Primeiro Semestre 2019</th>\n",
              "    </tr>\n",
              "  </thead>\n",
              "  <tbody>\n",
              "    <tr>\n",
              "      <th>0</th>\n",
              "      <td>CENTRO OESTE</td>\n",
              "      <td>46,18 %</td>\n",
              "    </tr>\n",
              "  </tbody>\n",
              "</table>\n",
              "</div>"
            ],
            "text/plain": [
              "         Regiao Produção Primeiro Semestre 2019\n",
              "0  CENTRO OESTE                         46,18 %"
            ]
          },
          "execution_count": 363,
          "metadata": {},
          "output_type": "execute_result"
        }
      ]
    }
  ]
}