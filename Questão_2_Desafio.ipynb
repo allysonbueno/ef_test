{
  "nbformat": 4,
  "nbformat_minor": 5,
  "metadata": {
    "kernelspec": {
      "display_name": "Python 3",
      "language": "python",
      "name": "python3"
    },
    "language_info": {
      "codemirror_mode": {
        "name": "ipython",
        "version": 3
      },
      "file_extension": ".py",
      "mimetype": "text/x-python",
      "name": "python",
      "nbconvert_exporter": "python",
      "pygments_lexer": "ipython3",
      "version": "3.8.8"
    },
    "colab": {
      "name": "Questão-2-Desafio.ipynb",
      "provenance": [],
      "include_colab_link": true
    }
  },
  "cells": [
    {
      "cell_type": "markdown",
      "metadata": {
        "id": "view-in-github",
        "colab_type": "text"
      },
      "source": [
        "<a href=\"https://colab.research.google.com/github/allysonbueno/ef_test/blob/main/Quest%C3%A3o_2_Desafio.ipynb\" target=\"_parent\"><img src=\"https://colab.research.google.com/assets/colab-badge.svg\" alt=\"Open In Colab\"/></a>"
      ]
    },
    {
      "cell_type": "code",
      "metadata": {
        "id": "d8abcaee-5ba9-4de5-a348-98141359fb13"
      },
      "source": [
        "import pandas as pd\n",
        "import pyodbc"
      ],
      "id": "d8abcaee-5ba9-4de5-a348-98141359fb13",
      "execution_count": null,
      "outputs": []
    },
    {
      "cell_type": "code",
      "metadata": {
        "id": "9cdb8197-2595-4ee8-808d-94989ca81c80"
      },
      "source": [
        "server = 'localhost' \n",
        "database = 'DesafioEF' \n",
        "username = 'datalake' \n",
        "password = 'S@_admin12345'  \n",
        "\n",
        "conn = pyodbc.connect('DRIVER={SQL Server};SERVER='+server+';DATABASE='+database+';UID='+username+';PWD='+ password)\n",
        "cursor = conn.cursor()"
      ],
      "id": "9cdb8197-2595-4ee8-808d-94989ca81c80",
      "execution_count": null,
      "outputs": []
    },
    {
      "cell_type": "code",
      "metadata": {
        "id": "ab5c61dd-fdaa-48f5-8b9e-1db0ee4e5f64"
      },
      "source": [
        "query = \"SELECT * FROM Producao_2019;\"\n",
        "df = pd.read_sql(query, conn)"
      ],
      "id": "ab5c61dd-fdaa-48f5-8b9e-1db0ee4e5f64",
      "execution_count": null,
      "outputs": []
    },
    {
      "cell_type": "code",
      "metadata": {
        "id": "0d063400-a642-4fcc-b50f-c406d0bbf57c"
      },
      "source": [
        "# 2) Qual estado possui maior área produtiva? "
      ],
      "id": "0d063400-a642-4fcc-b50f-c406d0bbf57c",
      "execution_count": null,
      "outputs": []
    },
    {
      "cell_type": "code",
      "metadata": {
        "id": "a81bd981-53c7-48a2-a740-d571bfbf03d6",
        "outputId": "04de22d2-745e-4457-d4ce-6e33ba9f8ccb"
      },
      "source": [
        "calculo_produtividade = df['ton_2019'] / df['HA_2019']\n",
        "df['Calculo_Produtividade'] = calculo_produtividade\n",
        "df_maior_produtor = df.groupby('UF')['Calculo_Produtividade'].max().reset_index().sort_values(['Calculo_Produtividade'], ascending=False).head(1)\n",
        "df_maior_produtor['Calculo_Produtividade'] = df_maior_produtor['Calculo_Produtividade'].apply(lambda x: \"{:_.2f}\".format(x).replace('.', ',').replace('_', '.')) + ' ton/HA'\n",
        "\n",
        "###### ###### ######  RESPOSTA: ###### ###### ###### \n",
        "df_maior_produtor"
      ],
      "id": "a81bd981-53c7-48a2-a740-d571bfbf03d6",
      "execution_count": null,
      "outputs": [
        {
          "data": {
            "text/html": [
              "<div>\n",
              "<style scoped>\n",
              "    .dataframe tbody tr th:only-of-type {\n",
              "        vertical-align: middle;\n",
              "    }\n",
              "\n",
              "    .dataframe tbody tr th {\n",
              "        vertical-align: top;\n",
              "    }\n",
              "\n",
              "    .dataframe thead th {\n",
              "        text-align: right;\n",
              "    }\n",
              "</style>\n",
              "<table border=\"1\" class=\"dataframe\">\n",
              "  <thead>\n",
              "    <tr style=\"text-align: right;\">\n",
              "      <th></th>\n",
              "      <th>UF</th>\n",
              "      <th>Calculo_Produtividade</th>\n",
              "    </tr>\n",
              "  </thead>\n",
              "  <tbody>\n",
              "    <tr>\n",
              "      <th>6</th>\n",
              "      <td>DISTRITO FEDERAL</td>\n",
              "      <td>5,19 ton/HA</td>\n",
              "    </tr>\n",
              "  </tbody>\n",
              "</table>\n",
              "</div>"
            ],
            "text/plain": [
              "                 UF Calculo_Produtividade\n",
              "6  DISTRITO FEDERAL           5,19 ton/HA"
            ]
          },
          "execution_count": 48,
          "metadata": {},
          "output_type": "execute_result"
        }
      ]
    },
    {
      "cell_type": "code",
      "metadata": {
        "id": "f66c5d7c-1800-47e6-a78f-afba05854482",
        "outputId": "60f68c8d-a3d2-44af-8a64-1772509ed3f6"
      },
      "source": [
        "\n",
        "calculo_produtividade_Maio = df['ton_Maio'] / df['HA_Maio']\n",
        "df['Calculo_Produtividade_Maio'] = calculo_produtividade_Maio\n",
        "df_maior_produtor_Maio = df.groupby('UF')['Calculo_Produtividade_Maio'].max().reset_index().sort_values(['Calculo_Produtividade_Maio'], ascending=False).head(1)\n",
        "df_maior_produtor_Maio['Calculo_Produtividade_Maio'] = df_maior_produtor_Maio['Calculo_Produtividade_Maio'].apply(lambda x: \"{:_.2f}\".format(x).replace('.', ',').replace('_', '.')) + ' ton/HA'\n",
        "\n",
        "###### ###### ######  RESPOSTA: ###### ###### ###### \n",
        "df_maior_produtor_Maio"
      ],
      "id": "f66c5d7c-1800-47e6-a78f-afba05854482",
      "execution_count": null,
      "outputs": [
        {
          "data": {
            "text/html": [
              "<div>\n",
              "<style scoped>\n",
              "    .dataframe tbody tr th:only-of-type {\n",
              "        vertical-align: middle;\n",
              "    }\n",
              "\n",
              "    .dataframe tbody tr th {\n",
              "        vertical-align: top;\n",
              "    }\n",
              "\n",
              "    .dataframe thead th {\n",
              "        text-align: right;\n",
              "    }\n",
              "</style>\n",
              "<table border=\"1\" class=\"dataframe\">\n",
              "  <thead>\n",
              "    <tr style=\"text-align: right;\">\n",
              "      <th></th>\n",
              "      <th>UF</th>\n",
              "      <th>Calculo_Produtividade_Maio</th>\n",
              "    </tr>\n",
              "  </thead>\n",
              "  <tbody>\n",
              "    <tr>\n",
              "      <th>6</th>\n",
              "      <td>DISTRITO FEDERAL</td>\n",
              "      <td>5,32 ton/HA</td>\n",
              "    </tr>\n",
              "  </tbody>\n",
              "</table>\n",
              "</div>"
            ],
            "text/plain": [
              "                 UF Calculo_Produtividade_Maio\n",
              "6  DISTRITO FEDERAL                5,32 ton/HA"
            ]
          },
          "execution_count": 49,
          "metadata": {},
          "output_type": "execute_result"
        }
      ]
    },
    {
      "cell_type": "code",
      "metadata": {
        "id": "8b7f0b24-fce6-4754-bd1c-41627a1e6644",
        "outputId": "21866918-4499-45bf-dadb-3d9fa46b5de3"
      },
      "source": [
        "calculo_produtividade_Junho = df['ton_Junho'] / df['HA_Junho']\n",
        "df['Calculo_Produtividade_Junho'] = calculo_produtividade_Junho\n",
        "df_Junhor_produtor_Junho = df.groupby('UF')['Calculo_Produtividade_Junho'].max().reset_index().sort_values(['Calculo_Produtividade_Junho'], ascending=False).head(1)\n",
        "df_Junhor_produtor_Junho['Calculo_Produtividade_Junho'] = df_Junhor_produtor_Junho['Calculo_Produtividade_Junho'].apply(lambda x: \"{:_.2f}\".format(x).replace('.', ',').replace('_', '.')) + ' ton/HA'\n",
        "\n",
        "###### ###### ######  RESPOSTA: ###### ###### ###### \n",
        "df_Junhor_produtor_Junho"
      ],
      "id": "8b7f0b24-fce6-4754-bd1c-41627a1e6644",
      "execution_count": null,
      "outputs": [
        {
          "data": {
            "text/html": [
              "<div>\n",
              "<style scoped>\n",
              "    .dataframe tbody tr th:only-of-type {\n",
              "        vertical-align: middle;\n",
              "    }\n",
              "\n",
              "    .dataframe tbody tr th {\n",
              "        vertical-align: top;\n",
              "    }\n",
              "\n",
              "    .dataframe thead th {\n",
              "        text-align: right;\n",
              "    }\n",
              "</style>\n",
              "<table border=\"1\" class=\"dataframe\">\n",
              "  <thead>\n",
              "    <tr style=\"text-align: right;\">\n",
              "      <th></th>\n",
              "      <th>UF</th>\n",
              "      <th>Calculo_Produtividade_Junho</th>\n",
              "    </tr>\n",
              "  </thead>\n",
              "  <tbody>\n",
              "    <tr>\n",
              "      <th>6</th>\n",
              "      <td>DISTRITO FEDERAL</td>\n",
              "      <td>5,33 ton/HA</td>\n",
              "    </tr>\n",
              "  </tbody>\n",
              "</table>\n",
              "</div>"
            ],
            "text/plain": [
              "                 UF Calculo_Produtividade_Junho\n",
              "6  DISTRITO FEDERAL                 5,33 ton/HA"
            ]
          },
          "execution_count": 50,
          "metadata": {},
          "output_type": "execute_result"
        }
      ]
    }
  ]
}